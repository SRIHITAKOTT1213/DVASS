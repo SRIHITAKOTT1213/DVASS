{
 "cells": [
  {
   "attachments": {},
   "cell_type": "markdown",
   "metadata": {},
   "source": [
    "# Login using Flask (Single Server)\n",
    "> Flask has an MVC login that handles common task of login, logout and maintaining a session.  This is single-app, not frontend-backend cross-domain.\n",
    "  \n",
    "- title: Login using Flask (Single Server)\n",
    "- toc: true\n",
    "- categories: []\n",
    "- image: /images/python.png\n",
    "- type: pbl"
   ]
  },
  {
   "attachments": {},
   "cell_type": "markdown",
   "metadata": {},
   "source": [
    "## Flask_Login [Documentation](https://flask-login.readthedocs.io/en/latest/)\n",
    "> Flask_Login provides user session management for Flask Application. It handles the common tasks of logging in, logging out, and remembering your(\"Remember Me\")  users’ sessions over extended periods of time.  Python/Flask Accounts and Login runtime example: [https://csp.nighthawkcodingsociety.com/crud/](https://csp.nighthawkcodingsociety.com/crud/)\n",
    "\n",
    "> *** THIS PROCEDURE NEEDS TO CHANGE *** to support working with 2 app, frontend/backend solutions.  Review [Geeks for Geeks](https://www.geeksforgeeks.org/using-jwt-for-user-authentication-in-flask/), Second [Article](https://www.bacancytechnology.com/blog/flask-jwt-authentication), and with [Illustrations](https://4geeks.com/lesson/what-is-JWT-and-how-to-implement-with-Flask)"
   ]
  },
  {
   "attachments": {},
   "cell_type": "markdown",
   "metadata": {},
   "source": [
    "### MVC initialization [__init__.py](https://github.com/nighthawkcoders/nighthawk_csp/blob/master/__init__.py) \n",
    "> LoginManager is a part of Flask and need to be configured after you establish 'app'.  The below code needs to be adapted to JWT to work effectively with View that is run in a remote application.  \n",
    "\n",
    "In a nutshell, how you can we authentication a Flask app that has a server side manged View:  \n",
    "* Initialize Flask  \n",
    "   * Use the Flask-Login library for session management  \n",
    "   * Use the built-in Flask utility for hashing passwords  \n",
    "* Create Model  \n",
    "  * Use Flask-SQLAlchemy to create a User model. Add password encryption with werkzeug.security  \n",
    "* Create Views    \n",
    "  * Create sign-up and login forms for the users to create accounts and log in\n",
    "  * Add protected pages to the app for logged in users only\n",
    "* Control(check against DB):\n",
    "  * Flash error messages back to users when something goes wrong (email exists when on sign-up page or incorrect email/pwd when on login page)\n",
    "  * Use information from the user’s account to display on the profile page\n",
    "* Logout user"
   ]
  },
  {
   "cell_type": "code",
   "execution_count": null,
   "metadata": {},
   "outputs": [],
   "source": [
    "\n",
    "# __init__.py  \n",
    "from flask import Flask  \n",
    "\n",
    "# Setup of key Flask object (app)\n",
    "app = Flask(__name__)\n",
    "\n",
    "from flask_login import LoginManager\n",
    "\n",
    "# The most important part of an application that uses Flask-Login is the LoginManager class.\n",
    "# You should create one for your application like this:  \n",
    "# Setup LoginManager object (app)\n",
    "login_manager = LoginManager()\n",
    "\n",
    "# The login manager contains the code that lets your application and Flask-Login work together, \n",
    "# such as how to load a user from an ID,  where to send users when they need to log in, and the like.  \n",
    "# Once the actual application object has been created, you can configure it for login with:\n",
    "\n",
    "login_manager.init_app(app)"
   ]
  },
  {
   "attachments": {},
   "cell_type": "markdown",
   "metadata": {},
   "source": [
    "### MVC MODEL: [model.py](https://github.com/nighthawkcoders/nighthawk_csp/blob/master/cruddy/model.py)\n",
    "> Password encryption is implemented in model to protect user information."
   ]
  },
  {
   "cell_type": "code",
   "execution_count": null,
   "metadata": {},
   "outputs": [],
   "source": [
    "# model.py\n",
    "# The class that you use to represent users needs to implement these properties and methods:  \n",
    "# is_authenticated, is_active, is_anonymous, get_id()\n",
    "# To make implementing a user class easier, you can inherit from UserMixin, which provides default implementations  \n",
    "# for all of these properties and methods.\n",
    "\n",
    "from flask_login import UserMixin\n",
    "# Users DB is a collection Data Structure\n",
    "class Users(UserMixin, db.Model):\n",
    "    # define the Users schema\n",
    "    userID = db.Column(db.Integer, primary_key=True)\n",
    "    name = db.Column(db.String(255), unique=False, nullable=False)\n",
    "    email = db.Column(db.String(255), unique=True, nullable=False)\n",
    "    password = db.Column(db.String(255), unique=False, nullable=False)\n",
    "    phone = db.Column(db.String(255), unique=False, nullable=False)\n",
    "\n",
    "    # constructor of a User object, initializes instance variables within object\n",
    "    def __init__(self, name, email, password, phone):\n",
    "        self.name = name\n",
    "        self.email = email\n",
    "        self.set_password(password) #encrypt password\n",
    "        self.phone = phone\n",
    "\n",
    "# required for login_user, overrides id (login_user default) to implemented userID\n",
    "# The method get_id() must return a str that uniquely identifies this user, and can be used to load the user  \n",
    "# from the user_loader callback.\n",
    "def get_id(self):\n",
    "    return self.userID\n",
    "\n",
    "## Hashing Passwords With Werkzeug(German word meaning Tools)\n",
    "\n",
    "'''\n",
    "Any time you want to login to a website/app, you need a password. \n",
    "It's very important not to store passwords as-is in a database, instead you need to do something called hashing which converts the password into a hash which is a big long string of text and characters.\n",
    "Hashing is the process of scrambling raw information to the extent that it cannot reproduce it back to its original form. It takes a piece of information and passes it through a function that performs mathematical operations on the plaintext. \n",
    "This function is called the hash function, and the output is called the hash value/digest. Hashing is nearly impossible to revert, so if hackers get a hold of a database with hashed passwords, hash decoding is a futile task.  \n",
    "<img width=\"520\" alt=\"image\" src=\"https://user-images.githubusercontent.com/88572244/161413976-32b5db62-56f4-4453-99c6-658bfbb995d1.png\">\n",
    "\n",
    "The Secure Hash Algorithm(SHA) with a digest size of 256 bits, or the SHA 256 algorithm, is one of the most widely used hash algorithms. While there are other variants, SHA 256 has been at the forefront of real-world applications.\n",
    "Werkzeug is a comprehensive WSGI web application library. It is a WSGI toolkit that implements requests, response objects, and utility functions. \n",
    "This enables a web frame to be built on it. The Flask framework uses Werkzeug as one of its bases.**\n",
    "\n",
    "werkzeug.security methods generate_password_hash to create a hashed/encrypted password and, check_password_hash to check the hashed password\n",
    "'''\n",
    "\n",
    "from werkzeug.security import generate_password_hash, check_password_hash\n",
    "\n",
    " # set password method is used to create encrypted password\n",
    "def set_password(self, password):\n",
    "    \"\"\"Create hashed password.\"\"\"\n",
    "    * Procedural Abstraction\n",
    "    self.password = generate_password_hash(password, method='sha256')\n",
    "\n",
    "# check password to check versus encrypted password\n",
    "def is_password_match(self, password):\n",
    "    \"\"\"Check hashed password.\"\"\"\n",
    "    result = check_password_hash(self.password, password)\n",
    "    return result"
   ]
  },
  {
   "attachments": {},
   "cell_type": "markdown",
   "metadata": {},
   "source": [
    "### MVC - VIEW\n",
    "> Password management has two parts.\n",
    "- Sign-up [authorize.html](https://github.com/nighthawkcoders/nighthawk_csp/blob/master/cruddy/templates/cruddy/authorize.html), \n",
    "- Login [login.html](https://github.com/nighthawkcoders/nighthawk_csp/blob/master/cruddy/templates/cruddy/login.html)"
   ]
  },
  {
   "cell_type": "code",
   "execution_count": null,
   "metadata": {
    "vscode": {
     "languageId": "html"
    }
   },
   "outputs": [],
   "source": [
    "\n",
    "<!---\n",
    "# authorize.html\n",
    "# The conventional HTML Sign-up screen \n",
    "-->\n",
    "\n",
    "<div class=\"container bg-secondary py-4\">\n",
    "    <div class=\"p-5 mb-4 bg-light text-dark rounded-3\">\n",
    "        <form method=\"POST\" ID=\"authUser\" action={{url_for('crud.crud_authorize')}} >   <!--- url_for is specific to servers side -->\n",
    "            <table>\n",
    "                <tr><th><label for=\"user_name\">Username</label></th></tr>\n",
    "                <tr><td><input type=\"text\" id='user_name' name=\"user_name\" size=\"20\" required></td></tr>\n",
    "                <tr><th><label for=\"email\">Email</label></th></tr>\n",
    "                <tr><td><input type=\"email\" id=\"email\" name=\"email\" size=\"20\" required></td></tr>\n",
    "                Hack #1 Add Phone Number to Sign-Up screen  \n",
    "                <tr><th><label for=\"password1\">Password</label></th></tr>\n",
    "                <tr><td><input type=\"password\" id='password1' name=\"password1\" size=\"20\" required></td></tr>\n",
    "                <tr><th><label for=\"password2\">Password Confirmation</label></th></tr>\n",
    "                <tr><td><input type=\"password\" id='password2' name=\"password2\" size=\"20\" required></td></tr>\n",
    "                <tr><th><input type=\"submit\" value=\"Submit\"></th></tr>\n",
    "                <tr><td><a href={{url_for('crud.crud_login')}}>Log In</a></td></tr>    <!--- url_for is specific to servers side -->\n",
    "            </table>\n",
    "        </form>\n",
    "    </div>\n",
    "</div>"
   ]
  },
  {
   "attachments": {},
   "cell_type": "markdown",
   "metadata": {},
   "source": [
    "### MVC - CONTROL, View Driver [app_crud.py](https://github.com/nighthawkcoders/nighthawk_csp/blob/master/cruddy/app_crud.py#L22-L33) \n",
    "- Note. a function that needs a login will required @login_required annotation"
   ]
  },
  {
   "cell_type": "code",
   "execution_count": null,
   "metadata": {},
   "outputs": [],
   "source": [
    "flask_login.login_required\n",
    "# If you decorate a view(route) with this, it will ensure that the current user is logged in and authenticated before calling the actual view. \n",
    "# (If they are not, it calls the LoginManager.unauthorized callback.). \n",
    "# Use this example for Hack #3.\n",
    "@app_crud.route('/')\n",
    "@login_required  # Flask-Login uses this decorator to restrict access to logged in users\n",
    "def crud():\n",
    "    \"\"\"obtains all Users from table and loads Admin Form\"\"\"\n",
    "    return render_template(\"crud.html\", table=users_all())\n",
    "\n",
    "# Unauthorized users do not get access to the SQL CRUD\n",
    "# Flask-Login directs unauthorized users to this unauthorized_handler\n",
    "@login_manager.unauthorized_handler\n",
    "def unauthorized():\n",
    "    \"\"\"Redirect unauthorized users to Login page.\"\"\"\n",
    "    return redirect(url_for('crud.crud_login'))"
   ]
  },
  {
   "attachments": {},
   "cell_type": "markdown",
   "metadata": {},
   "source": [
    "### MVC - CONTROL [query.py](https://github.com/nighthawkcoders/nighthawk_csp/blob/master/cruddy/query.py)\n",
    "> "
   ]
  },
  {
   "cell_type": "code",
   "execution_count": null,
   "metadata": {},
   "outputs": [],
   "source": [
    "# query.py\n",
    "\n",
    "from __init__ import login_manager, db\n",
    "from cruddy.model import Users\n",
    "from flask_login import current_user, login_user, logout_user\n",
    "\n",
    "# login user based off of email and password\n",
    "def login(email, password):\n",
    "    # sequence of checks\n",
    "    if current_user.is_authenticated:  # return true if user is currently logged in\n",
    "        return True\n",
    "    elif is_user(email, password):  # return true if email and password match\n",
    "        user_row = user_by_email(email)\n",
    "        login_user(user_row)  # sets flask login_user\n",
    "        return True\n",
    "    else:  # default condition is any failure\n",
    "        return False\n",
    "\n",
    "\n",
    "# this function is needed for Flask-Login to work.\n",
    "# User_loader callback. This callback is used to reload the user object from the user ID stored in the session.   \n",
    "# It should take the str ID of a user, and return the corresponding user object.  \n",
    "# It should return None (not raise an exception) if the ID is not valid. \n",
    "\n",
    "@login_manager.user_loader\n",
    "def user_loader(user_id):\n",
    "    \"\"\"Check if user login status on each page protected by @login_required.\"\"\"\n",
    "    if user_id is not None:\n",
    "        return Users.query.get(user_id)\n",
    "    return None\n",
    "\n",
    "\n",
    "# Authorize new user requires user_name, email, password\n",
    "def authorize(name, email, password):\n",
    "    if is_user(email, password):\n",
    "        return False   #email already exist in DB\n",
    "    else:\n",
    "        # auth_user is an object of class Users\n",
    "        auth_user = Users(\n",
    "            name=name,\n",
    "            email=email,\n",
    "            password=password,\n",
    "            phone=\"1234567890\"  # this should be added to authorize.html Hack #1\n",
    "        )\n",
    "        # Password is encrypted in the init method of the class with self.set_password(password)\n",
    "        # Add it to the auth_user object\n",
    "        auth_user.create()\n",
    "        return True\n",
    "\n",
    "\n",
    "# logout user\n",
    "Hack #2 Add logout to CRUD screen  \n",
    "def logout():\n",
    "    logout_user()  # removes login state of user from session"
   ]
  },
  {
   "attachments": {},
   "cell_type": "markdown",
   "metadata": {},
   "source": [
    "\n",
    "### Hacks:  \n",
    "Hack #1 Add DOB to Sign Up screen  \n",
    "Hack #2 Add logout to Menu Bar. Display logged in User or Logout on the menu bar  \n",
    "Hack #3 Add login_required to portion(s) of project  \n",
    "\n",
    "Common login features.\n",
    "* Validate email/password on login page\n",
    "* Validate email, check for duplicate email on sign up page\n",
    "* Add lock symbol to menu items when running as anonymous"
   ]
  }
 ],
 "metadata": {
  "kernelspec": {
   "display_name": "Python 3",
   "language": "python",
   "name": "python3"
  },
  "language_info": {
   "name": "python",
   "version": "3.11.1"
  },
  "orig_nbformat": 4,
  "vscode": {
   "interpreter": {
    "hash": "1a1af0ee75eeea9e2e1ee996c87e7a2b11a0bebd85af04bb136d915cefc0abce"
   }
  }
 },
 "nbformat": 4,
 "nbformat_minor": 2
}
