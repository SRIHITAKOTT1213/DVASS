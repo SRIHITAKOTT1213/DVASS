{
 "cells": [
  {
   "attachments": {},
   "cell_type": "markdown",
   "metadata": {},
   "source": [
    "# student lesson\n",
    "- toc: true"
   ]
  },
  {
   "attachments": {},
   "cell_type": "markdown",
   "metadata": {},
   "source": [
    "# Lists\n",
    "- What are Lists?\n",
    "    - Lists are an _________, where each element is a variable\n",
    "\n",
    "Some examples of lists:\n",
    "-  \n",
    "- \n",
    "- \n",
    "\n",
    "- Each element of a string is referenced by an index (which is a number) and they generally start 0 but for the AP Exam it starts at 1.\n",
    "    - AP Exam: 1,2,3,4 etc.\n",
    "    - Python:  0,1,2,3 etc.\n",
    "\n",
    "**How do lists Manage Complexity of a program?**\n",
    "- We may not need as many variables. For example:\n",
    "    - One Variable that holds all students would be better than having a variable for EACH student\n",
    "    - There can also be a list of test scores so if they need to be curved then the same calculation can be applied to the list (that has all the students) instead of doing the calculations one at a time"
   ]
  },
  {
   "attachments": {},
   "cell_type": "markdown",
   "metadata": {},
   "source": [
    "Answer the following questions about the code block below:\n",
    "- What is an example of a string? Are there multiple?\n",
    "- What is an example of a list?"
   ]
  },
  {
   "cell_type": "code",
   "execution_count": null,
   "metadata": {},
   "outputs": [],
   "source": [
    "# Sample of Python Variables\n",
    "\n",
    "# variable of type string\n",
    "name = \"Sri Kotturi\"\n",
    "print(\"name\", name, type(name))\n",
    "\n",
    "# variable of type integer\n",
    "age = 16\n",
    "print(\"age\", age, type(age))\n",
    "\n",
    "# variable of type float\n",
    "score = 90.0\n",
    "print(\"score\", score, type(score))\n",
    "\n",
    "print()\n",
    "\n",
    "# variable of type list (many values in one variable)\n",
    "langs = [\"Python\", \"JavaScript\", \"Java\", \"Bash\", \"html\"]\n",
    "print(\"langs\", langs, type(langs))\n",
    "print(\"- langs[2]\", langs[2], type(langs[2]))\n",
    "\n",
    "print()\n",
    "\n",
    "# variable of type dictionary (a group of keys and values)\n",
    "person = {\n",
    "    \"name\": name,\n",
    "    \"age\": age,\n",
    "    \"score\": score,\n",
    "    \"langs\": langs\n",
    "}\n",
    "print(\"person\", person, type(person))\n",
    "print('- person[\"name\"]', person[\"name\"], type(person[\"name\"]))"
   ]
  },
  {
   "attachments": {},
   "cell_type": "markdown",
   "metadata": {},
   "source": [
    "# Mathematical Expressions\n",
    "\n",
    "**What is an algorithm?**\n",
    "- it is a ____ set of instructions that accomplishes a specific task\n",
    "**Sequencing**\n",
    "- means that there is an ____ in which to do things\n",
    "**Selection**\n",
    "- Helps to choose two _____ based off of a decision that the programmer wants to make\n",
    "**Iteration**\n",
    "- Repeat something until the _____ is met. (also referred to as repetition)"
   ]
  },
  {
   "attachments": {},
   "cell_type": "markdown",
   "metadata": {},
   "source": [
    "What is the output of the cell below? What Mathematical Expressions do you see being used?\n",
    "- \n",
    "- "
   ]
  },
  {
   "cell_type": "code",
   "execution_count": null,
   "metadata": {},
   "outputs": [],
   "source": [
    "grade1 = 10\n",
    "grade2 =  grade1 \n",
    "\n",
    "average_grade = (grade1 + grade2)/ 2\n",
    "\n",
    "print(average_grade)"
   ]
  },
  {
   "attachments": {},
   "cell_type": "markdown",
   "metadata": {},
   "source": [
    "What is the value of num1, num2, and num3? Explain the result for at least one of the values?\n",
    "- \n",
    "- "
   ]
  },
  {
   "cell_type": "code",
   "execution_count": null,
   "metadata": {},
   "outputs": [],
   "source": [
    "num1 = 2\n",
    "num2 = 4\n",
    "num3 = 6\n",
    "num1 = num2 + num3\n",
    "num3 = num1 + 5\n",
    "num2 = (num1 + num3)/5\n",
    "\n",
    "print(num1)\n",
    "print(num2)\n",
    "print(num3)"
   ]
  },
  {
   "attachments": {},
   "cell_type": "markdown",
   "metadata": {},
   "source": [
    "# Conditionals\n",
    "What is a conditional?:\n",
    "- Statement that allows code to execute different instructions if a certain condition is __________\n",
    "- Allows program to make decisions based on ___ and ____\n",
    "\n",
    "What are the main types of conditional statements?:\n",
    "- if\n",
    "- if/else\n",
    "- if/elif/else\n",
    "\n",
    "## If statements\n",
    "- If (condition) then (consequence)\n",
    "- Example:"
   ]
  },
  {
   "cell_type": "code",
   "execution_count": null,
   "metadata": {},
   "outputs": [],
   "source": [
    "x = int(input(\"Enter a number\"))\n",
    "if x > 0: # if condition, check if this is true of false\n",
    "    print(\"x is positive\") # code that will execute if condition is met"
   ]
  },
  {
   "cell_type": "code",
   "execution_count": null,
   "metadata": {},
   "outputs": [],
   "source": [
    "x = int(input(\"Enter a number, x:\"))\n",
    "if x > 0: # if condition, check if this is true of false\n",
    "    print(\"x is positive\") # code that will execute if condition is met\n",
    "elif x < 0: # if previous condition not true... elif condition, check if this is true of false\n",
    "    print(\"x is negative\")# code that will execute if condition is met\n",
    "else: # everything else, in this case it is if x == 0 \n",
    "    print(\"x is zero\") # only executes if all previous conditions are not met"
   ]
  },
  {
   "attachments": {},
   "cell_type": "markdown",
   "metadata": {},
   "source": [
    "# Nested Conditionals\n",
    "What is a nested conditional?:\n",
    "- Conditional statement inside another conditional statement\n",
    "- Allows to check for more ____________ where one condition depends on another"
   ]
  },
  {
   "cell_type": "code",
   "execution_count": null,
   "metadata": {},
   "outputs": [],
   "source": [
    "x = int(input(\"Enter a number, x:\"))\n",
    "if x % 2 == 0:\n",
    "    print(\"x is even divisible by 2\")\n",
    "    # only ever checks is x is divisible by 3 if x is even. nested conditional\n",
    "    if x % 3 == 0:\n",
    "        print(\"x is divisible by 3\")\n",
    "    else:\n",
    "        print(\"x is not divisible by 3\")\n",
    "else:\n",
    "    print(\"x is odd\")"
   ]
  },
  {
   "attachments": {},
   "cell_type": "markdown",
   "metadata": {},
   "source": [
    "# Introduction to Algorithms\n",
    "- an algorithm is a __________ that describes how to solve a problem or perform a specific task using a computer program. \n",
    "- It is a ________________ steps that take an input and produce an output\n",
    "\n",
    "How do Algorithms relate to data structures?\n",
    "- Algorithms often rely on specific _________ to solve problems _____. \n",
    "- __________ require a data structure such as an ____ or a linked list to store and manipulate data.\n",
    "- Searching algorithms such as ______ require data structures like _______ to organize and search through data.\n",
    "\n",
    "# Calling and Developing Procedures\n",
    "- A procedure is a sequence of instructions that __________.\n",
    "- To call a procedure, you need to know its ___________ it requires.\n",
    "- When a procedure is called, the program jumps to its instruction and starts executing it.\n",
    "- The ______ passed to a procedure can be used within the procedure to perform tasks or calculations.\n",
    "- After the procedure has completed its task, it returns control back to the calling program."
   ]
  },
  {
   "cell_type": "code",
   "execution_count": null,
   "metadata": {},
   "outputs": [],
   "source": [
    "# Define a procedure that takes two arguments and prints their sum\n",
    "def add_numbers(a, b):\n",
    "    sum = a + b\n",
    "    print(\"The sum of\", a, \"and\", b, \"is\", sum)\n",
    "\n",
    "# Call the procedure with arguments 5 and 7\n",
    "add_numbers(5, 7)"
   ]
  },
  {
   "attachments": {},
   "cell_type": "markdown",
   "metadata": {},
   "source": [
    "# Algorithmic Efficiency\n",
    "- Algorithmic efficiency refers to the _____________ needed to execute an algorithm.\n",
    "- The efficiency of an algorithm can be measured in terms of its ________ and ________.\n",
    "    - Time complexity refers to the amount of time required by an algorithm to complete its task as a function of its input size.\n",
    "    - Space complexity refers to the ________ required by an algorithm to complete its task as a function of its input size.\n",
    "- The efficiency of an algorithm can be analyzed using _____ notation, which provides an upper bound on the ______ time and space complexity of the algorithm.\n",
    "- Efficiency can be improved by using more efficient data structures and algorithms.\n",
    "    - Some common techniques for improving efficiency include reducing the _______, caching results, and _______.\n",
    "    - Understanding algorithmic efficiency is important in software development, as it can impact the performance of applications and their ability to scale with larger data sets."
   ]
  },
  {
   "attachments": {},
   "cell_type": "markdown",
   "metadata": {},
   "source": [
    "DREW LESSON"
   ]
  },
  {
   "attachments": {},
   "cell_type": "markdown",
   "metadata": {},
   "source": [
    "(In your VSCode, run the code cell below. It will be used throughout the lesson.)"
   ]
  },
  {
   "cell_type": "code",
   "execution_count": 2,
   "metadata": {},
   "outputs": [],
   "source": [
    "player_chips = 100\n",
    "\n",
    "class Card:\n",
    "    def __init__(self, suit, val):\n",
    "        self.suit = suit\n",
    "        self.val = val\n",
    "        if val == 11:\n",
    "            self.kind = \"Ace\"\n",
    "        elif val == 12:\n",
    "            self.kind = \"Jack\"\n",
    "        elif val == 13:\n",
    "            self.kind = \"Queen\"\n",
    "        elif val == 14:\n",
    "            self.kind = \"King\"\n",
    "        else:\n",
    "            self.kind = str(self.val)\n",
    "\n",
    "    #return a formatted string version of a card\n",
    "    def show(self):\n",
    "        return f\"{self.kind} of {self.suit}\"\n",
    "    \n",
    "    #adjust aces to prevent breaking\n",
    "    def ace_adj(self):\n",
    "        if self.kind == \"Ace\":\n",
    "            self.val = 1"
   ]
  },
  {
   "attachments": {},
   "cell_type": "markdown",
   "metadata": {},
   "source": [
    "# Introduction: Simulations\n",
    "\n",
    "Simulations are ______________ or systems that use mathematical algorithms and computer programs simulate the real behavior and aspects of the subject being modeled.\n",
    "\n",
    "Simulations are most often used to model ____________ that would be difficult to test in real life, such as modeling the __________ in certain ecosystems or testing the _______ of a potential product before it is made.\n",
    "\n",
    "# Review: Lists and Iteration\n",
    "\n",
    "Lists and iteration work hand-in-hand to ________________________. In the card game, lists and iteration are used together frequently to make the game work correctly. See two examples of how it can work below."
   ]
  },
  {
   "cell_type": "code",
   "execution_count": 3,
   "metadata": {},
   "outputs": [
    {
     "name": "stdout",
     "output_type": "stream",
     "text": [
      "['Ace of Diamonds']\n"
     ]
    }
   ],
   "source": [
    "player_hand = [] # the player's hand is represented as a list\n",
    "# because lists are mutable (can change), they can be added to, like drawing a card\n",
    "\n",
    "# assume the deck below is a a deck of shuffled cards\n",
    "deck = [Card(\"Hearts\", 3), Card(\"Spades\", 12), Card(\"Diamonds\", 11)]\n",
    "def draw_card(hand, deck):\n",
    "    hand.append(deck.pop())\n",
    "\n",
    "#try it out\n",
    "draw_card(player_hand, deck)\n",
    "print([card.show() for card in player_hand])"
   ]
  },
  {
   "attachments": {},
   "cell_type": "markdown",
   "metadata": {},
   "source": [
    "# Recursive Loops\n",
    "\n",
    "Recursive loops are used throughout the Python blackjack model. This is seen with the interaction between the `game_start()` function and the `play_again()` function."
   ]
  },
  {
   "cell_type": "code",
   "execution_count": null,
   "metadata": {},
   "outputs": [],
   "source": [
    "def game_start():\n",
    "    #after the game setup and outcome...\n",
    "    play_again()\n",
    "\n",
    "def play_again():\n",
    "    if player_chips != 0:\n",
    "            pa = input('Would you like to play again? (Input \"y\" for yes and \"n\" for no.)')\n",
    "            if pa.lower() == \"y\":\n",
    "                game_start() #HERE\n",
    "            else:\n",
    "                return\n",
    "\n",
    "# run to see it in action\n",
    "game_start()"
   ]
  },
  {
   "attachments": {},
   "cell_type": "markdown",
   "metadata": {},
   "source": [
    "# For Loops\n",
    "\n",
    "For loops are used quite often throughout the simulation and are helpful to __________________________ to everything inside of a list/collection of data or to repeat a process a certain number of times.\n",
    "\n",
    "An example of both of these things are very conveniently seen in the `Deck` class function `build()`. It also shows loops being nested."
   ]
  },
  {
   "cell_type": "code",
   "execution_count": null,
   "metadata": {},
   "outputs": [],
   "source": [
    "#the parameter is a list\n",
    "def build(deck):\n",
    "        for suit in [\"Spades\", \"Clubs\", \"Diamonds\", \"Hearts\"]:\n",
    "            for val in range(2, 15): #HINT: try replacing this function\n",
    "                deck.append(Card(suit, val))"
   ]
  },
  {
   "attachments": {},
   "cell_type": "markdown",
   "metadata": {},
   "source": [
    "Going piece by piece:\n",
    "\n",
    "```\n",
    "for suit in [\"Spades\", \"Clubs\", \"Diamonds\", \"Hearts\"]:\n",
    "```\n",
    "\n",
    "Whatever is mentioned below this will be repeated four times, once for each of the listed card suits.\n",
    "\n",
    "```\n",
    "for val in range(2, 15)\n",
    "```\n",
    "\n",
    "Here, the `for` loop is essentially doing the same thing as before, this time with a list of numbers starting with 2 and ending with 14. As a result, the function runs 13 times, each time with a new integer value that is assigned to the value of a card of a certain suit.\n",
    "\n",
    "#### While Loops\n",
    "\n",
    "While loops aren't used in the program, but they offer a different way to repeat a set of instructions in a program. The procedure below the `while [condition]` line will occur until the condition is made not true.\n",
    "\n",
    "<mark>**Student Interation**: How could this `build` function be altered to function with a **while loop** within it?</mark>"
   ]
  },
  {
   "cell_type": "code",
   "execution_count": null,
   "metadata": {},
   "outputs": [],
   "source": [
    "def build(deck):\n",
    "        for suit in [\"Spades\", \"Clubs\", \"Diamonds\", \"Hearts\"]:\n",
    "            for val in range(2, 15):\n",
    "                deck.append(Card(suit, val))\n",
    "\n",
    "#HINT: you may want to make a variable i to be the numbers in the range\n",
    "# you could increment it each loop"
   ]
  },
  {
   "attachments": {},
   "cell_type": "markdown",
   "metadata": {},
   "source": [
    "# Random Values\n",
    "\n",
    "Because unpredictable randomness occurs in the real world, it's important to have a way to represent it. Simulations are able to use ________, which could be in the form of random number generation or other methods like `shuffle`.\n",
    "\n",
    "Card decks are a great example of how random values can be used to represent real-world scenarios. In the card simulation, the `random` module's `shuffle` function is used to quite literally shuffle the deck, seen below."
   ]
  },
  {
   "cell_type": "code",
   "execution_count": null,
   "metadata": {},
   "outputs": [],
   "source": [
    "import random\n",
    "def shuffle(deck):\n",
    "    random.shuffle(deck)"
   ]
  },
  {
   "attachments": {},
   "cell_type": "markdown",
   "metadata": {},
   "source": [
    "Often, random selection methods use functions like `_____` or `_______` as ways to select certain indexes in lists, or might use the random numbers in some other way.\n",
    "\n",
    "Without shuffling the card order of the deck, can you think of a way that the aforementioned `random` module functions could be used to get a random card from the deck?\n",
    "- \n",
    "- \n",
    "- "
   ]
  },
  {
   "cell_type": "code",
   "execution_count": null,
   "metadata": {},
   "outputs": [],
   "source": [
    "# Here is a possible correct answer.\n",
    "import random\n",
    "\n",
    "s_deck = [] #to be built\n",
    "build(s_deck) #filling deck\n",
    "\n",
    "def select_random(deck):\n",
    "    rando = random.randint(0, len(deck)) #generating a random number to use as index\n",
    "    randsel = deck[rando] #selecting a random card with the index\n",
    "    deck.pop(rando) #getting rid of the selected card from the deck\n",
    "    return randsel.show()\n",
    "\n",
    "select_random(s_deck)"
   ]
  },
  {
   "attachments": {},
   "cell_type": "markdown",
   "metadata": {},
   "source": [
    "# Student Interaction (Hack)"
   ]
  }
 ],
 "metadata": {
  "kernelspec": {
   "display_name": "base",
   "language": "python",
   "name": "python3"
  },
  "language_info": {
   "codemirror_mode": {
    "name": "ipython",
    "version": 3
   },
   "file_extension": ".py",
   "mimetype": "text/x-python",
   "name": "python",
   "nbconvert_exporter": "python",
   "pygments_lexer": "ipython3",
   "version": "3.10.9"
  },
  "orig_nbformat": 4
 },
 "nbformat": 4,
 "nbformat_minor": 2
}
