{
 "cells": [
  {
   "attachments": {},
   "cell_type": "markdown",
   "metadata": {},
   "source": [
    "#  Conditionals, Nested Conditionals, Binary Search (Selection)\n",
    "> Aliya's lesson\n",
    "- toc: true\n",
    "- comments: true"
   ]
  },
  {
   "attachments": {},
   "cell_type": "markdown",
   "metadata": {},
   "source": [
    "# Selection\n",
    "Selection refers to the process of maing decisions in a program based on certain conditions. It is normally done with conditional statements. "
   ]
  },
  {
   "attachments": {},
   "cell_type": "markdown",
   "metadata": {},
   "source": [
    "# Conditionals\n",
    "What is a conditional?:\n",
    "- Statement that allows code to execute different instructions if a certain condition is true or false\n",
    "- Allows program to make decisions based on data and input\n",
    "\n",
    "What are the main types of conditional statements?:\n",
    "- if\n",
    "- elif\n",
    "- else\n",
    "\n",
    "## If statements\n",
    "- The if statement is used to check if a certain condition is true. The condition can be any expression that evaulates to a boolean value, True or False. If the condition is True, then it executes a code block. \n",
    "- If (condition) then (consequence)\n",
    "- Example:"
   ]
  },
  {
   "cell_type": "code",
   "execution_count": 8,
   "metadata": {},
   "outputs": [
    {
     "name": "stdout",
     "output_type": "stream",
     "text": [
      "x is positive\n"
     ]
    }
   ],
   "source": [
    "x = int(input(\"Enter a number\"))\n",
    "if x > 0: # if condition, check if this is true of false\n",
    "    print(\"x is positive\") # code that will execute if condition is met"
   ]
  },
  {
   "attachments": {},
   "cell_type": "markdown",
   "metadata": {},
   "source": [
    "## Else\n",
    "- The else statemnt executes a code block when the if condition is False. \n",
    "- If (condition) then (consequence A), else (consequence B)\n",
    "\n",
    "## Elif\n",
    "- The elif statement can check ultiple conditions in a sequence, and execute a certain block of code if any of the conditions are true. \n",
    "- If (condition) then (consequence A), elif (condition) then (consequence B), else (consequence C)\n",
    "\n",
    "\n",
    "- Example adding onto the code from before to take negative numbers and 0 into account"
   ]
  },
  {
   "cell_type": "code",
   "execution_count": 5,
   "metadata": {},
   "outputs": [
    {
     "name": "stdout",
     "output_type": "stream",
     "text": [
      "x is negative\n"
     ]
    }
   ],
   "source": [
    "x = int(input(\"Enter a number, x:\"))\n",
    "if x > 0: # if condition, check if this is true of false\n",
    "    print(\"x is positive\") # code that will execute if condition is met\n",
    "elif x < 0: # if previous condition not true... elif condition, check if this is true of false\n",
    "    print(\"x is negative\")# code that will execute if condition is met\n",
    "else: # everything else, in this case it is if x == 0 \n",
    "    print(\"x is zero\") # only executes if all previous conditions are not met"
   ]
  },
  {
   "attachments": {},
   "cell_type": "markdown",
   "metadata": {},
   "source": [
    "# Nested Conditionals\n",
    "What is a nested conditional?:\n",
    "- Conditional statement inside another conditonal statement\n",
    "- Allows to check for more complex condition where one condition depends on another\n",
    "\n",
    "## Nested Conditional Statements\n",
    "- Example"
   ]
  },
  {
   "cell_type": "code",
   "execution_count": 8,
   "metadata": {},
   "outputs": [
    {
     "name": "stdout",
     "output_type": "stream",
     "text": [
      "x is even divisible by 2\n",
      "x is divisible by 3\n"
     ]
    }
   ],
   "source": [
    "x = int(input(\"Enter a number, x:\"))\n",
    "if x % 2 == 0:\n",
    "    print(\"x is even divisible by 2\")\n",
    "    # only ever checks is x is divisble by 3 if x is even. nested conditional\n",
    "    if x % 3 == 0:\n",
    "        print(\"x is divisible by 3\")\n",
    "    else:\n",
    "        print(\"x is not divisible by 3\")\n",
    "else:\n",
    "    print(\"x is odd\")\n"
   ]
  },
  {
   "attachments": {},
   "cell_type": "markdown",
   "metadata": {},
   "source": [
    "## Indentation\n",
    "When using conditionals and nested conditioinals in Python, it is important to pay attention to the level of indentation in the code. The code inside the if, elif, and else blocks must be indented so they are nested wihtin the outer statements. This way, Python knows which code belongs to which block. "
   ]
  },
  {
   "attachments": {},
   "cell_type": "markdown",
   "metadata": {},
   "source": [
    "## Write a program using conditionals and nested conditionals\n",
    "- Ideas: Quiz, game (rock paper scissors, guess number), etc"
   ]
  },
  {
   "cell_type": "code",
   "execution_count": null,
   "metadata": {},
   "outputs": [],
   "source": [
    "# YOUR PROGRAM WITH CONDITINALS AND NESTED CONDITIONALS"
   ]
  },
  {
   "attachments": {},
   "cell_type": "markdown",
   "metadata": {},
   "source": [
    "# Binary Search\n",
    "What is binary search and what is it used for?:\n",
    "- Searching algorithm\n",
    "- Find a specific element in a sorted list of elements\n",
    "\n",
    "How does binary search work?:\n",
    "- Repeatedly divides the search interval in half to find the middle element and compares the middle value to the target value, if not the same then it continues on to either the lower or upper half\n",
    "- Eliminate half of the remaining search interval elements each time\n",
    "- Efficient way to search for element in large dataset\n",
    "\n",
    "What is the time complexity and why?:\n",
    "- O(log(N))\n",
    "- The maximum number of iterations is the amount of times the list can be divided in half until it reaches 1 number\n",
    "- Dividing by 2, so it is log2(N), logarigthm of n base 2\n",
    "\n",
    "- Example"
   ]
  },
  {
   "cell_type": "code",
   "execution_count": 7,
   "metadata": {},
   "outputs": [
    {
     "name": "stdout",
     "output_type": "stream",
     "text": [
      "Is your number 50?\n",
      "Is your number 75?\n",
      "Is your number 62?\n",
      "Is your number 68?\n",
      "I guessed your number 68!\n"
     ]
    }
   ],
   "source": [
    "import random\n",
    "\n",
    "def binary_search_game():\n",
    "    low = 1\n",
    "    high = 100\n",
    "    target = random.randint(low, high)\n",
    "\n",
    "    while True:\n",
    "        guess = (low + high) // 2\n",
    "        print(f\"Is your number {guess}?\")\n",
    "        response = input(\"Enter 'higher', 'lower', or 'yes': \")\n",
    "\n",
    "        # conditional statements to check target number and guess\n",
    "        if response == 'yes':\n",
    "            print(f\"I guessed your number {guess}!\")\n",
    "            break\n",
    "        elif response == 'higher':\n",
    "            low = guess + 1\n",
    "        elif response == 'lower':\n",
    "            high = guess - 1\n",
    "        else:\n",
    "            print(\"Invalid input, please enter 'higher', 'lower', or 'yes'.\")\n",
    "\n",
    "binary_search_game()"
   ]
  }
 ],
 "metadata": {
  "kernelspec": {
   "display_name": "base",
   "language": "python",
   "name": "python3"
  },
  "language_info": {
   "codemirror_mode": {
    "name": "ipython",
    "version": 3
   },
   "file_extension": ".py",
   "mimetype": "text/x-python",
   "name": "python",
   "nbconvert_exporter": "python",
   "pygments_lexer": "ipython3",
   "version": "3.9.12"
  },
  "orig_nbformat": 4
 },
 "nbformat": 4,
 "nbformat_minor": 2
}
