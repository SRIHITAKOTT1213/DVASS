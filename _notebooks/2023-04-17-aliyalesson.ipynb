{
 "cells": [
  {
   "attachments": {},
   "cell_type": "markdown",
   "metadata": {},
   "source": [
    "#  Conditionals, Nested Conditionals, Binary Search (Selection)\n",
    "> Aliya's lesson\n",
    "- toc: true\n",
    "- comments: true"
   ]
  },
  {
   "attachments": {},
   "cell_type": "markdown",
   "metadata": {},
   "source": [
    "# Conditionals\n",
    "What is a conditional?:\n",
    "- Statement that allows code to execute different instructions if a certain condition is true or false\n",
    "- Allows program to make decisions based on data and input\n",
    "\n",
    "What are the main types of conditional statements?:\n",
    "- if\n",
    "- if/else\n",
    "- if/elif/else\n",
    "\n",
    "## If statements\n",
    "- If (condition) then (consequence)\n",
    "- Example:"
   ]
  },
  {
   "cell_type": "code",
   "execution_count": null,
   "metadata": {},
   "outputs": [],
   "source": [
    "x = int(input(\"Enter a number\"))\n",
    "if x > 0: # if condition, check if this is true of false\n",
    "    print(\"x is positive\") # code that will execute if condition is met"
   ]
  },
  {
   "attachments": {},
   "cell_type": "markdown",
   "metadata": {},
   "source": [
    "## If/else and if/elif/else statements\n",
    "- If (condition) then (consequence A), else (consequence B)\n",
    "- Adding onto the code from before to take negative numbers and 0 into account\n",
    "- Example"
   ]
  },
  {
   "cell_type": "code",
   "execution_count": 5,
   "metadata": {},
   "outputs": [
    {
     "name": "stdout",
     "output_type": "stream",
     "text": [
      "x is negative\n"
     ]
    }
   ],
   "source": [
    "x = int(input(\"Enter a number, x:\"))\n",
    "if x > 0: # if condition, check if this is true of false\n",
    "    print(\"x is positive\") # code that will execute if condition is met\n",
    "elif x < 0: # if previous condition not true... elif condition, check if this is true of false\n",
    "    print(\"x is negative\")# code that will execute if condition is met\n",
    "else: # everything else, in this case it is if x == 0 \n",
    "    print(\"x is zero\") # only executes if all previous conditions are not met"
   ]
  },
  {
   "attachments": {},
   "cell_type": "markdown",
   "metadata": {},
   "source": [
    "# Nested Conditionals\n",
    "What is a nested conditional?:\n",
    "- Conditional statement inside another conditonal statement\n",
    "- Allows to check for more complex condition where one condition depends on another\n",
    "\n",
    "## Nested Conditional Statements\n",
    "- Example"
   ]
  },
  {
   "cell_type": "code",
   "execution_count": 8,
   "metadata": {},
   "outputs": [
    {
     "name": "stdout",
     "output_type": "stream",
     "text": [
      "x is even divisible by 2\n",
      "x is divisible by 3\n"
     ]
    }
   ],
   "source": [
    "x = int(input(\"Enter a number, x:\"))\n",
    "if x % 2 == 0:\n",
    "    print(\"x is even divisible by 2\")\n",
    "    # only ever checks is x is divisble by 3 if x is even. nested conditional\n",
    "    if x % 3 == 0:\n",
    "        print(\"x is divisible by 3\")\n",
    "    else:\n",
    "        print(\"x is not divisible by 3\")\n",
    "else:\n",
    "    print(\"x is odd\")\n"
   ]
  },
  {
   "cell_type": "code",
   "execution_count": null,
   "metadata": {},
   "outputs": [],
   "source": [
    "# WRITE A NESTED CONDITIONAL EXAMPLE"
   ]
<<<<<<< HEAD
=======
  },
  {
   "attachments": {},
   "cell_type": "markdown",
   "metadata": {},
   "source": [
    "# Binary Search\n",
    "What is binary search and what is it used for?:\n",
    "- Searching algorithm\n",
    "- Find a specific element in a sorted list of elements\n",
    "\n",
    "How does binary search work?:\n",
    "- Repeatedly divides the search interval in half to find the middle element and compares the middle value to the target value, if not the same then it continues on to either the lower or upper half\n",
    "- Eliminate half of the remaining search interval elements each time\n",
    "- Efficient way to search for element in large dataset\n",
    "\n",
    "What is the time complexity and why?:\n",
    "- O(log(N))\n",
    "- The maximum number of iterations is the amount of times the list can be divided in half until it reaches 1 number\n",
    "- Dividing by 2, so it is log2(N), logarigthm of n base 2\n",
    "\n",
    "- Example"
   ]
  },
  {
   "cell_type": "code",
   "execution_count": 4,
   "metadata": {},
   "outputs": [
    {
     "name": "stdout",
     "output_type": "stream",
     "text": [
      "Too low!\n",
      "Too high!\n",
      "Too high!\n",
      "Too high!\n",
      "Too high!\n",
      "Too high!\n",
      "Sorry, you did not guess the number. The correct answer was 59.\n"
     ]
    }
   ],
   "source": [
    "import random\n",
    "\n",
    "def guess_number():\n",
    "    # Generate a random number between 1 and 100\n",
    "    number = random.randint(1, 100)\n",
    "\n",
    "    # Initialize the search range\n",
    "    low = 1\n",
    "    high = 100\n",
    "\n",
    "    # Loop until the number is guessed\n",
    "    while low <= high:\n",
    "        # Calculate the middle number\n",
    "        mid = (low + high) // 2\n",
    "\n",
    "        # Ask the user to guess the number\n",
    "        guess = int(input(\"Guess a number\"))\n",
    "\n",
    "        # Check if the guess is correct\n",
    "        if guess == number:\n",
    "            print(\"Congratulations! You guessed the number.\")\n",
    "            return\n",
    "\n",
    "        # Narrow down the search range based on the guess\n",
    "        elif guess < number:\n",
    "            print(\"Too low!\")\n",
    "            low = mid + 1\n",
    "        else:\n",
    "            print(\"Too high!\")\n",
    "            high = mid - 1\n",
    "\n",
    "    # If the loop exits, the user did not guess the number\n",
    "    print(f\"Sorry, you did not guess the number. The correct answer was {number}.\")\n",
    "\n",
    "# Call the guess_number function to start the game\n",
    "guess_number()\n"
   ]
>>>>>>> 719e1e0 (aliya)
  }
 ],
 "metadata": {
  "kernelspec": {
   "display_name": "base",
   "language": "python",
   "name": "python3"
  },
  "language_info": {
   "codemirror_mode": {
    "name": "ipython",
    "version": 3
   },
   "file_extension": ".py",
   "mimetype": "text/x-python",
   "name": "python",
   "nbconvert_exporter": "python",
   "pygments_lexer": "ipython3",
   "version": "3.9.12"
  },
  "orig_nbformat": 4
 },
 "nbformat": 4,
 "nbformat_minor": 2
}
