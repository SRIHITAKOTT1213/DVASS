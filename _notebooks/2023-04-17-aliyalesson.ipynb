{
 "cells": [
  {
   "attachments": {},
   "cell_type": "markdown",
   "metadata": {},
   "source": [
    "#  Conditionals, Nested Conditionals, Binary Search (Selection)\n",
    "> Aliya's lesson\n",
    "- toc: true\n",
    "- comments: true"
   ]
  },
  {
   "attachments": {},
   "cell_type": "markdown",
   "metadata": {},
   "source": [
    "# Conditionals\n",
    "What is a conditional?:\n",
    "- Statement that allows code to execute different instructions if a certain condition is true or false\n",
    "- Allows program to make decisions based on data and input\n",
    "\n",
    "What are the main types of conditional statements?:\n",
    "- if\n",
    "- if/else\n",
    "- if/elif/else\n",
    "\n",
    "## If statements\n",
    "- If (condition) then (consequence)\n",
    "- Example:"
   ]
  },
  {
   "cell_type": "code",
   "execution_count": null,
   "metadata": {},
   "outputs": [],
   "source": [
    "x = int(input(\"Enter a number\"))\n",
    "if x > 0: # if condition, check if this is true of false\n",
    "    print(\"x is positive\") # code that will execute if condition is met"
   ]
  },
  {
   "attachments": {},
   "cell_type": "markdown",
   "metadata": {},
   "source": [
    "## If/else and if/elif/else statements\n",
    "- If (condition) then (consequence A), else (consequence B)\n",
    "- Adding onto the code from before to take negative numbers and 0 into account\n",
    "- Example"
   ]
  },
  {
   "cell_type": "code",
   "execution_count": 5,
   "metadata": {},
   "outputs": [
    {
     "name": "stdout",
     "output_type": "stream",
     "text": [
      "x is negative\n"
     ]
    }
   ],
   "source": [
    "x = int(input(\"Enter a number, x:\"))\n",
    "if x > 0: # if condition, check if this is true of false\n",
    "    print(\"x is positive\") # code that will execute if condition is met\n",
    "elif x < 0: # if previous condition not true... elif condition, check if this is true of false\n",
    "    print(\"x is negative\")# code that will execute if condition is met\n",
    "else: # everything else, in this case it is if x == 0 \n",
    "    print(\"x is zero\") # only executes if all previous conditions are not met"
   ]
  },
  {
   "attachments": {},
   "cell_type": "markdown",
   "metadata": {},
   "source": [
    "# Nested Conditionals\n",
    "What is a nested conditional?:\n",
    "- Conditional statement inside another conditonal statement\n",
    "- Allows to check for more complex condition where one condition depends on another\n",
    "\n",
    "## Nexted Conditional Statements\n",
    "- Example"
   ]
  },
  {
   "cell_type": "code",
   "execution_count": 8,
   "metadata": {},
   "outputs": [
    {
     "name": "stdout",
     "output_type": "stream",
     "text": [
      "x is even divisible by 2\n",
      "x is divisible by 3\n"
     ]
    }
   ],
   "source": [
    "x = int(input(\"Enter a number, x:\"))\n",
    "if x % 2 == 0:\n",
    "    print(\"x is even divisible by 2\")\n",
    "    # only ever checks is x is divisble by 3 if x is even. nested conditional\n",
    "    if x % 3 == 0:\n",
    "        print(\"x is divisible by 3\")\n",
    "    else:\n",
    "        print(\"x is not divisible by 3\")\n",
    "else:\n",
    "    print(\"x is odd\")\n"
   ]
  },
  {
   "attachments": {},
   "cell_type": "markdown",
   "metadata": {},
   "source": [
    "## Remember: Indentation\n"
   ]
  }
 ],
 "metadata": {
  "kernelspec": {
   "display_name": "base",
   "language": "python",
   "name": "python3"
  },
  "language_info": {
   "codemirror_mode": {
    "name": "ipython",
    "version": 3
   },
   "file_extension": ".py",
   "mimetype": "text/x-python",
   "name": "python",
   "nbconvert_exporter": "python",
   "pygments_lexer": "ipython3",
   "version": "3.9.12"
  },
  "orig_nbformat": 4
 },
 "nbformat": 4,
 "nbformat_minor": 2
}
