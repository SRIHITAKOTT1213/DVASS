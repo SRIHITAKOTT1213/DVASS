{
 "cells": [
  {
   "cell_type": "markdown",
   "metadata": {},
   "source": [
    "# Introduction to Neo4J and using a Graph Database\n",
    "> A description of the data, and then how to connect and query the database.\n",
    "\n",
    "- toc: true\n",
    "- comments: true\n",
    "- title: Neo4J Graph Database Introduction\n",
    "- image: /images/neo4j_logo.png\n",
    "- categories: []"
   ]
  },
  {
   "cell_type": "markdown",
   "id": "f7b99db9",
   "metadata": {},
   "source": [
    "# Introduction\n",
    "\n",
    "CS-Students is a sample knowledge graph that can be used to model any classroom that is relation based (a classroom that has lots of different people, pairs, groups, periods; things like that). This notebook is meant to demonstrate how to query this knowledge graph based on the preset things that are currently in the sample data.\n",
    "\n",
    "# Data\n",
    "\n",
    "## Currently, the data consists of the following categories (which are labels in Neo4J):\n",
    "\n",
    "##### Period (most teachers would find it useful to have their data divided into class periods)\n",
    "##### Scrum Team (basically, the largest overarching groups of students, under period)\n",
    "##### Pairs (pairs of students within scrum teams)\n",
    "##### Person (object that represents each student)\n",
    "\n",
    "## The data also has the following relationships\n",
    "\n",
    "##### IN_PERIOD (to relate teams to the period they are in)\n",
    "##### CROSSOVER (a relationship that exists to connect pairs of teams which work together)\n",
    "##### PAIR_SHARE (relationship defining students who are paired together)\n",
    "##### IN_GROUP (to relate people to the group they are in)\n",
    "\n",
    "# Setup in Anaconda\n",
    "\n",
    "1: Install Anaconda\n",
    "\n",
    "2: On windows, open the Anaconda command prompt. On mac, open the normal terminal.\n",
    "\n",
    "3: Run the following commands:\n",
    "\n",
    "conda install jupyter\n",
    "\n",
    "conda install py2neo\n",
    "\n",
    "conda install pandas\n",
    "\n",
    "conda install neo4jupyter\n",
    "\n",
    "4: If you haven't already, then clone this repository to a location that you can navigate to easily in your files.\n",
    "\n",
    "5: The commands above have configured your conda environment. Now, simply run the command\n",
    "\n",
    "jupyter notebook\n",
    "\n",
    "6: This should open up something in the browser. You will see all of your files. Navigate to the directory which has the github repository clone.\n",
    "\n",
    "7: Then, navigate to this notebook. You should be able to run this notebook and experience all of its features now!\n",
    "\n",
    "# Setup in an IDE like VSCode\n",
    "\n",
    "1: In the IDE terminal, run the following commands:\n",
    "\n",
    "pip install jupyter\n",
    "\n",
    "pip install py2neo\n",
    "\n",
    "pip install pandas\n",
    "\n",
    "pip install neo4jupyter\n",
    "\n",
    "2: You're all set to run the notebook!"
   ]
  },
  {
   "cell_type": "code",
   "execution_count": null,
   "id": "ffb2a475",
   "metadata": {},
   "outputs": [],
   "source": [
    "import pandas as pd\n",
    "import getpass\n",
    "from py2neo import Graph, Node, Relationship\n",
    "from py2neo import GraphService\n",
    "import neo4jupyter\n",
    "neo4jupyter.init_notebook_mode()"
   ]
  },
  {
   "cell_type": "code",
   "execution_count": null,
   "id": "2ad6a4d9",
   "metadata": {
    "scrolled": true
   },
   "outputs": [],
   "source": [
    "# The database is hosted on AuraDB, and this is the connection URI for it\n",
    "# The password is made private. \n",
    "password = getpass.getpass(prompt='Password: ', stream=None) \n",
    "graph = Graph(\"neo4j+ssc://f9708be2.databases.neo4j.io\", auth=(\"neo4j\", password))\n",
    "\n",
    "# database\n",
    "gs = GraphService(\"neo4j+ssc://f9708be2.databases.neo4j.io\", auth=(\"neo4j\", password))"
   ]
  },
  {
   "cell_type": "code",
   "execution_count": null,
   "id": "0755b617",
   "metadata": {},
   "outputs": [],
   "source": [
    "# Run this cell to visualize all of the people in the graph!\n",
    "neo4jupyter.draw(graph, {\"PERSON\": \"name\"})"
   ]
  },
  {
   "cell_type": "code",
   "execution_count": null,
   "id": "5994ba78",
   "metadata": {},
   "outputs": [],
   "source": [
    "# Returns all scrum teams and links to the runtimes of projects\n",
    "query = \"MATCH(n:SCRUM_TEAM) RETURN n.name AS TeamName, n.runtimelink AS RuntimeLink\"\n",
    "graph.run(query).to_data_frame()"
   ]
  },
  {
   "cell_type": "code",
   "execution_count": null,
   "id": "60cd213b",
   "metadata": {},
   "outputs": [],
   "source": [
    "# Returns the people in Team 1 and their jobs\n",
    "query = \"MATCH(n1:PERSON)-[rel:IN_GROUP]->(n2:SCRUM_TEAM {name: \\\"Team 1\\\"}) RETURN n1.name AS Person, rel.Job AS Job\"\n",
    "graph.run(query).to_data_frame()"
   ]
  },
  {
   "cell_type": "code",
   "execution_count": null,
   "id": "4ec69adc",
   "metadata": {},
   "outputs": [],
   "source": [
    "# Returns the people in Team 2 and their jobs\n",
    "query = \"MATCH(n1:PERSON)-[rel:IN_GROUP]->(n2:SCRUM_TEAM {name: \\\"Team 2\\\"}) RETURN n1.name AS Person, rel.Job AS Job\"\n",
    "graph.run(query).to_data_frame()"
   ]
  },
  {
   "cell_type": "markdown",
   "id": "613a919d",
   "metadata": {},
   "source": [
    "# The following cells show how to do CRUD operations\n",
    "\n",
    "You can do more than just query! To see your changes in effect, rerun the visualization in the third cell."
   ]
  },
  {
   "cell_type": "code",
   "execution_count": null,
   "id": "9862dc17",
   "metadata": {},
   "outputs": [],
   "source": [
    "# Create a node for a new person\n",
    "def CreatePerson(personName):\n",
    "    tx = graph.begin()\n",
    "    createdPerson = Node(\"PERSON\", name = personName)\n",
    "    tx.create(createdPerson)\n",
    "    graph.commit(tx)\n",
    "\n",
    "def CreatePersonTester():\n",
    "    n = input(\"Enter a person name: \")\n",
    "    CreatePerson(n)\n",
    "\n",
    "# Run the CreatePersonTester function to try creating a node. You should be able to find your new node!\n",
    "CreatePersonTester()"
   ]
  },
  {
   "cell_type": "code",
   "execution_count": null,
   "id": "854a545b",
   "metadata": {},
   "outputs": [],
   "source": [
    "# Update an existing node for a person by changing their name.\n",
    "# Note that this breaks with duplicate names. This is simply for demonstration purposes.\n",
    "# In a real application, you need to have a way to query by unique ID\n",
    "def UpdateAPerson(personName, newName):\n",
    "    graph.evaluate(\"MATCH (n:PERSON) WHERE n.name =\\\"\" + str(personName) + \"\\\" SET n.name=\\\"\" + str(newName) + \"\\\"\")\n",
    "\n",
    "def UpdateAPersonTester():\n",
    "    o = str(input(\"Enter the name you want to change: \"))\n",
    "    n = str(input(\"Enter the new name: \"))\n",
    "    UpdateAPerson(o, n)\n",
    "\n",
    "# Try updating the node that you created in the last code block!\n",
    "UpdateAPersonTester()"
   ]
  },
  {
   "cell_type": "code",
   "execution_count": null,
   "id": "af682a27",
   "metadata": {},
   "outputs": [],
   "source": [
    "# Delete an existing node for a person, based on name. \n",
    "# Note that this breaks with duplicate names. This is simply for demonstration purposes.\n",
    "def DeleteAPerson(personName):\n",
    "    node = graph.evaluate(\"MATCH (n:PERSON) WHERE n.name =\\\"\" + str(personName) + \"\\\" RETURN n\")\n",
    "    try:\n",
    "        graph.delete(node)\n",
    "    except:\n",
    "        return\n",
    "\n",
    "def DeleteAPersonTester():\n",
    "    x = str(input(\"Enter a person name: \"))\n",
    "    DeleteAPerson(x)\n",
    "\n",
    "# You can try deleting the node that you created by simply entering the person name\n",
    "DeleteAPersonTester()"
   ]
  }
 ],
 "metadata": {
  "kernelspec": {
   "display_name": "Python 3.8.10 64-bit",
   "language": "python",
   "name": "python3"
  },
  "language_info": {
   "codemirror_mode": {
    "name": "ipython",
    "version": 3
   },
   "file_extension": ".py",
   "mimetype": "text/x-python",
   "name": "python",
   "nbconvert_exporter": "python",
   "pygments_lexer": "ipython3",
   "version": "3.8.10"
  },
  "vscode": {
   "interpreter": {
    "hash": "916dbcbb3f70747c44a77c7bcd40155683ae19c65e1c03b4aa3499c5328201f1"
   }
  }
 },
 "nbformat": 4,
 "nbformat_minor": 5
}
