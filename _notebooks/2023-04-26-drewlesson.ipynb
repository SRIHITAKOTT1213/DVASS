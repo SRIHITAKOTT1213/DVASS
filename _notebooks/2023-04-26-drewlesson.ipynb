{
 "cells": [
  {
   "attachments": {},
   "cell_type": "markdown",
   "metadata": {},
   "source": [
    "# Lists and Iteration, Random Values and Simulations\n",
    "> In this lesson (Drew's lesson), we will go over the interactions between lists and loops, and we'll discuss the utility of random values to represent real-world randomness, all for the sake of creating a useful simulation.\n",
    "- toc: true\n",
    "- title: Lists and Iteration, Random Values and Simulations\n",
    "- permalink: /listitrvsim"
   ]
  },
  {
   "cell_type": "markdown",
   "metadata": {},
   "source": [
    "(In your VSCode, run this )"
   ]
  },
  {
   "attachments": {},
   "cell_type": "markdown",
   "metadata": {},
   "source": [
    "### Introduction: Simulations\n",
    "\n",
    "Simulations are models of real-world phenomena or systems that use mathematical algorithms and computer programs simulate the real behavior and aspects of the subject being modeled.\n",
    "\n",
    "Simulations are most often used to model complex or time-consuming things that would be difficult to test in real life, such as modeling the spread of diseases in certain ecosystems or testing the functionality of a potential product before it is made.\n",
    "\n",
    "In this lesson, we will be looking at lists, iteration, and random values through the lens of simulations.\n",
    "\n",
    "### Review: Lists and Iteration\n",
    "\n",
    "In this section, I go over lists to set up for iteration.\n",
    "\n",
    "Code plans:"
   ]
  },
  {
   "cell_type": "code",
   "execution_count": null,
   "metadata": {},
   "outputs": [],
   "source": [
    "# Going over lists using hand list\n",
    "# Unique concept: adding things to the list\n",
    "\n",
    "# Going over lists using the deck list\n",
    "# Unique concept: shuffling the list\n",
    "# Unique concept: getting rid of things with pop"
   ]
  },
  {
   "cell_type": "markdown",
   "metadata": {},
   "source": [
    "#### Recursive Loops\n",
    "\n",
    "Recursive loops are used throughout the Python blackjack model. This is seen with the interaction between the `game_start()` function and the `play_again()` function."
   ]
  },
  {
   "cell_type": "code",
   "execution_count": null,
   "metadata": {},
   "outputs": [],
   "source": [
    "def game_start():\n",
    "    #after the game setup and outcome...\n",
    "    play_again()\n",
    "\n",
    "def play_again():\n",
    "    if player_chips != 0:\n",
    "            pa = input('Would you like to play again? (Input \"y\" for yes and \"n\" for no.)')\n",
    "            if pa.lower() == \"y\":\n",
    "                game_start() #HERE\n",
    "            #..."
   ]
  },
  {
   "cell_type": "markdown",
   "metadata": {},
   "source": [
    "#### For Loops\n",
    "\n",
    "For loops are used quite often throughout the simulation and are helpful to easily be able to repeat a set of conditions to everything inside of a list/collection of data or to repeat a process a certain number of times.\n",
    "\n",
    "An example of both of these things are very conveniently seen in the `Deck` class function `build()`. It also shows loops being nested."
   ]
  },
  {
   "cell_type": "code",
   "execution_count": null,
   "metadata": {},
   "outputs": [],
   "source": [
    "def build(self):\n",
    "        for suit in [\"Spades\", \"Clubs\", \"Diamonds\", \"Hearts\"]:\n",
    "            for val in range(2, 15):\n",
    "                self.cards.append(Card(suit, val))"
   ]
  },
  {
   "cell_type": "markdown",
   "metadata": {},
   "source": [
    "Going piece by piece:\n",
    "\n",
    "```\n",
    "for suit in [\"Spades\", \"Clubs\", \"Diamonds\", \"Hearts\"]:\n",
    "```\n",
    "\n",
    "Whatever is mentioned below this will be repeated four times, once for each of the listed card suits.\n",
    "\n",
    "```\n",
    "for val in range(2, 15)\n",
    "```\n",
    "\n",
    "Here, the `for` loop is essentially doing the same thing as before, this time with a list of numbers starting with 2 and ending with 14. As a result, the function runs 13 times, each time with a new integer value that is assigned to the value of a card of a certain suit.\n",
    "\n",
    "#### While Loops\n",
    "\n",
    "While loops aren't used in the program, but they offer a different way to repeat a set of instructions in a program. The procedure below the `while [condition]` line will occur until the condition is made not true.\n",
    "\n",
    "<mark>**Student Interation**: How could this `build` function be altered to function with a while loop within it?</mark>"
   ]
  },
  {
   "cell_type": "code",
   "execution_count": null,
   "metadata": {},
   "outputs": [],
   "source": [
    "def build(deck):\n",
    "        for suit in [\"Spades\", \"Clubs\", \"Diamonds\", \"Hearts\"]:\n",
    "            for val in range(2, 15): #HINT: try replacing this function\n",
    "                deck.append(Card(suit, val))\n",
    "\n",
    "#HINT: you may want to make a variable i to be the numbers in the range\n",
    "# you could increment it each loop"
   ]
  },
  {
   "cell_type": "markdown",
   "metadata": {},
   "source": [
    "While loops also alter an alternative way to loop a set of instructions forever, until a precise thing occurs to break the loop. See the code below."
   ]
  },
  {
   "cell_type": "code",
   "execution_count": 30,
   "metadata": {},
   "outputs": [
    {
     "name": "stdout",
     "output_type": "stream",
     "text": [
      "It took 49 random generations to get 10.\n"
     ]
    }
   ],
   "source": [
    "import random\n",
    "i = 0\n",
    "\n",
    "while True:\n",
    "    i += 1\n",
    "    ch = random.randint(1, 11)\n",
    "    if ch == 10:\n",
    "        print(f\"It took {str(i)} random generations to get 10.\")\n",
    "        break"
   ]
  },
  {
   "cell_type": "markdown",
   "metadata": {},
   "source": [
    "49 random generations is a lot more than it would normally take, but it's important for code to be able to model unlikely, yet possible scenarios. Speaking of random values...\n",
    "\n",
    "### Random Values\n",
    "\n",
    "Because unpredictable randomness occurs in the real world, it's important to have a way to represent it. Simulations are able to use randomization, which could be in the form of random number generation or other methods like `shuffle`.\n",
    "\n",
    "Card decks are a great example of how random values can be used to represent real-world scenarios. In the card simulation, the `random` module's `shuffle` function is used to quite literally shuffle the deck, seen below."
   ]
  },
  {
   "cell_type": "code",
   "execution_count": null,
   "metadata": {},
   "outputs": [],
   "source": [
    "def shuffle(self):\n",
    "    random.shuffle(self.cards)"
   ]
  },
  {
   "cell_type": "markdown",
   "metadata": {},
   "source": [
    "Often, random selection methods use functions like `randint` or `randrange` as ways to select certain indexes in lists, or might use the random numbers in some other way.\n",
    "\n",
    "Without shuffling the card order of the deck, can you think of a way that the aforementioned `random` module functions could be used to get a random card from the deck?"
   ]
  },
  {
   "cell_type": "code",
   "execution_count": null,
   "metadata": {},
   "outputs": [],
   "source": [
    "# Here is a possible correct answer.\n",
    "import random\n",
    "s_deck = Deck().show() #the deck shuffle is a separate function, so this is unsorted\n",
    "rando = random.randint(0, len(s_deck)) #generating a random number to use as index\n",
    "randsel = s_deck[rando] #selecting a random card with the index\n",
    "s_deck.pop(rando) #getting rid of the selected card from the deck\n",
    "print(randsel)"
   ]
  },
  {
   "cell_type": "markdown",
   "metadata": {},
   "source": [
    "### Possible Student Assignment\n",
    "\n",
    "I might make an assignment here for the student to make a simple simulation that is at least mostly accurate to its real-world scenario. It must use:\n",
    "- A random value\n",
    "- At least one list or similar data type (dictionary, set, etc.)\n",
    "- Two different types of iteration"
   ]
  },
  {
   "cell_type": "code",
   "execution_count": null,
   "metadata": {},
   "outputs": [],
   "source": [
    "# Think about random values. What could they represent in the real world?\n",
    "# (Concert attendance? Wind speeds? Interactions between subjects in large environments?)\n",
    "\n",
    "# Think about the sort of things that could be saved in lists, dictionaries, etc.\n",
    "# (Even better if you can take advantage of the specific features of multiple types of data sets!)\n",
    "\n",
    "# What kind of iteration happens in the real world?\n",
    "# What occurs repeatedly, even over a long period of time?\n",
    "# Keep in mind that the simulation doesn't have to model real time.\n",
    "# You could, for example, model the results of a disease spreading through a population in just one second."
   ]
  }
 ],
 "metadata": {
  "kernelspec": {
   "display_name": "Python 3.9.12 ('base')",
   "language": "python",
   "name": "python3"
  },
  "language_info": {
   "codemirror_mode": {
    "name": "ipython",
    "version": 3
   },
   "file_extension": ".py",
   "mimetype": "text/x-python",
   "name": "python",
   "nbconvert_exporter": "python",
   "pygments_lexer": "ipython3",
   "version": "3.9.12"
  },
  "orig_nbformat": 4,
  "vscode": {
   "interpreter": {
    "hash": "56f7c0ddbd8295fccb7b65a09bceb7bda050a1a7ed2857cec799e2d3d977289f"
   }
  }
 },
 "nbformat": 4,
 "nbformat_minor": 2
}
