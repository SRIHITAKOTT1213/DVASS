{
 "cells": [
  {
   "attachments": {},
   "cell_type": "markdown",
   "metadata": {},
   "source": [
    "# First Jupyter Notebook\n",
    "\n",
    "\n",
    "- title: 3.1-3.5 Lesson Topics\n",
    "- toc: true\n",
    "- permalink: /bigidea3/lesson\n",
    "- categories: [Other Projects]\n",
    "- comments: true"
   ]
  },
  {
   "attachments": {},
   "cell_type": "markdown",
   "metadata": {},
   "source": [
    "# 3.1: Variables and Assignments"
   ]
  },
  {
   "attachments": {},
   "cell_type": "markdown",
   "metadata": {},
   "source": [
    "**What is a variable?**\n",
    "- A variable is an abstracttion inside a program that can hold a value.\n",
    "\n",
    "- It is important to know that using meaningful variable names helps with teh readability of program code and the understanding of what values are being represented by the variables"
   ]
  },
  {
   "attachments": {},
   "cell_type": "markdown",
   "metadata": {},
   "source": [
    "**Examples of Variables:**"
   ]
  },
  {
   "attachments": {},
   "cell_type": "markdown",
   "metadata": {},
   "source": [
    "Answer the following questions:\n",
    "- What is the variable shown in the code below?\n",
    "- Why do you think that value is a variable?"
   ]
  },
  {
   "cell_type": "code",
   "execution_count": null,
   "metadata": {},
   "outputs": [],
   "source": [
    "alphabet = \"abcdefghijklmnopqrstuvwxyz\"\n",
    "\n",
    "alphabetList = []\n",
    "\n",
    "for i in alphabet:\n",
    "    alphabetList.append(i)\n",
    "\n",
    "print(alphabetList)"
   ]
  },
  {
   "attachments": {},
   "cell_type": "markdown",
   "metadata": {},
   "source": [
    "- What about in this code block? What is the variable?"
   ]
  },
  {
   "cell_type": "code",
   "execution_count": null,
   "metadata": {},
   "outputs": [],
   "source": [
    "n = 81\n",
    "i = 3\n",
    "while i <= n:\n",
    "    print(i)\n",
    "    i+=13"
   ]
  },
  {
   "attachments": {},
   "cell_type": "markdown",
   "metadata": {},
   "source": [
    "For the first code block the variable is \"alphabet\" because it is being assigned to a string that contains the alphabet (and also has a meaningful name whichc makes it easy for the user to know exactly what that variable means). And in the second code block the variable is \"n\" because it is being assigned to an integer."
   ]
  },
  {
   "attachments": {},
   "cell_type": "markdown",
   "metadata": {},
   "source": [
    "**What is an assignment? What does it mean to assign something?**\n",
    "- An assignment is essentially setting a value or giving a value to a variable.\n",
    "\n",
    "Consider the code segment below:\n",
    "- What is num1 initially being assigned to?\n",
    "- Does num1 stay that same value or does it change? If it does change then why?"
   ]
  },
  {
   "cell_type": "code",
   "execution_count": null,
   "metadata": {},
   "outputs": [],
   "source": [
    "num1 = 25\n",
    "num2 = 15\n",
    "num3 = 55\n",
    "num2 = num3\n",
    "num3 = num1\n",
    "num1 = num2\n",
    "\n",
    "print(num1)\n",
    "print(num2)\n",
    "print(num3)"
   ]
  },
  {
   "attachments": {},
   "cell_type": "markdown",
   "metadata": {},
   "source": [
    "# 3.2: Data Abstraction"
   ]
  },
  {
   "attachments": {},
   "cell_type": "markdown",
   "metadata": {},
   "source": [
    "**What is Data Abstraction?**\n",
    "- Data abstractions manage complexity in programs by giving a collection of data a name without referencing the specific details of the representation.\n",
    "\n",
    "- Some examples of Data Abstraction are lists and strings"
   ]
  },
  {
   "attachments": {},
   "cell_type": "markdown",
   "metadata": {},
   "source": [
    "**Strings**\n",
    "- What are strings?\n",
    "    - Strings are an ordered sequence of characters that may contain letters, numbers, and all other special characters\n",
    "\n",
    "Some examples of strings:\n",
    "- Words\n",
    "- Phrases\n",
    "- Sentences\n",
    "- ID numbers\n",
    "\n",
    "- Why do you think it wouldn't make sense to consider a phone number, for example, as an integer instead of a string?\n",
    "    - Because usually integers are something we can add and subtract and average, whereas it would make sense to average a phone number because don't really consider them as just a bunch of numbers."
   ]
  },
  {
   "attachments": {},
   "cell_type": "markdown",
   "metadata": {},
   "source": [
    "**Lists:**\n",
    "- What are Lists?\n",
    "    - Lists are an ordered sequence of elements, where each element is a variable\n",
    "\n",
    "Some examples of lists:\n",
    "- Playlist of songs\n",
    "- names of students in a class\n",
    "- contacts on your phone\n",
    "\n",
    "- Each element of a string is referenced by an index (which is a number) and they generally start 0 but for the AP Exam it starts at 1.\n",
    "    - AP Exam: 1,2,3,4 etc.\n",
    "    - Python:  0,1,2,3 etc.\n",
    "\n",
    "**How do lists Manage Complexity of a program?**\n",
    "- We may not need as many variables. For example:\n",
    "    - One Variable that holds all students would be better than having a variable for EACH student\n",
    "    - There can also be a list of test scores so if they need to be curved then the same calculation can be applied to the list (that has all the students) instead of doing the calculations one at a time"
   ]
  },
  {
   "attachments": {},
   "cell_type": "markdown",
   "metadata": {},
   "source": [
    "Answer the following questions about the code block below:\n",
    "- What is an example of a string? Are there multiple?\n",
    "- What is an example of a list?"
   ]
  },
  {
   "cell_type": "code",
   "execution_count": null,
   "metadata": {},
   "outputs": [],
   "source": [
    "# Sample of Python Variables\n",
    "\n",
    "# variable of type string\n",
    "name = \"Sri Kotturi\"\n",
    "print(\"name\", name, type(name))\n",
    "\n",
    "# variable of type integer\n",
    "age = 16\n",
    "print(\"age\", age, type(age))\n",
    "\n",
    "# variable of type float\n",
    "score = 90.0\n",
    "print(\"score\", score, type(score))\n",
    "\n",
    "print()\n",
    "\n",
    "# variable of type list (many values in one variable)\n",
    "langs = [\"Python\", \"JavaScript\", \"Java\", \"Bash\", \"html\"]\n",
    "print(\"langs\", langs, type(langs))\n",
    "print(\"- langs[2]\", langs[2], type(langs[2]))\n",
    "\n",
    "print()\n",
    "\n",
    "# variable of type dictionary (a group of keys and values)\n",
    "person = {\n",
    "    \"name\": name,\n",
    "    \"age\": age,\n",
    "    \"score\": score,\n",
    "    \"langs\": langs\n",
    "}\n",
    "print(\"person\", person, type(person))\n",
    "print('- person[\"name\"]', person[\"name\"], type(person[\"name\"]))"
   ]
  },
  {
   "attachments": {},
   "cell_type": "markdown",
   "metadata": {},
   "source": [
    "# 3.3: Mathematical Expression"
   ]
  },
  {
   "attachments": {},
   "cell_type": "markdown",
   "metadata": {},
   "source": [
    "**What is an algorithm?**\n",
    "- it is a finite set of instructions that accomplishes a specific task\n",
    "\n",
    "**Sequencing**\n",
    "- means that there is an order in which to do things\n",
    "\n",
    "**Selection**\n",
    "- Helps to choose two different outcomes based off of a decision that the programmer wants to make\n",
    "\n",
    "**Iteration**\n",
    "- Repeat something until the condition is met. (also refered to as repetition)"
   ]
  },
  {
   "attachments": {},
   "cell_type": "markdown",
   "metadata": {},
   "source": [
    "What is the output of the cell below? What Mathematical Expressions do you see being used?"
   ]
  },
  {
   "cell_type": "code",
   "execution_count": null,
   "metadata": {},
   "outputs": [],
   "source": [
    "grade1 = 10\n",
    "grade2 =  grade1 \n",
    "\n",
    "average_grade = (grade1 + grade2)/ 2\n",
    "\n",
    "print(average_grade)"
   ]
  },
  {
   "attachments": {},
   "cell_type": "markdown",
   "metadata": {},
   "source": [
    "- The problem above is being done in a specific order."
   ]
  },
  {
   "attachments": {},
   "cell_type": "markdown",
   "metadata": {},
   "source": [
    "What is the value of num1, num2, and num3? Explain the result for at least one of the values?"
   ]
  },
  {
   "cell_type": "code",
   "execution_count": null,
   "metadata": {},
   "outputs": [],
   "source": [
    "num1 = 2\n",
    "num2 = 4\n",
    "num3 = 6\n",
    "num1 = num2 + num3\n",
    "num3 = num1 + 5\n",
    "num2 = (num1 + num3)/5\n",
    "\n",
    "print(num1)\n",
    "print(num2)\n",
    "print(num3)"
   ]
  },
  {
   "attachments": {},
   "cell_type": "markdown",
   "metadata": {},
   "source": [
    "**Arithmetic Operators:**\n",
    "\n",
    "- Addition:\n",
    "    - a + b        Ex. grade + 10\n",
    "\n",
    "- Subtraction:\n",
    "    - a - b        Ex. 100 - pointsDeducted\n",
    "\n",
    "- Multiplication\n",
    "    - a * b        Ex. base * height\n",
    "\n",
    "- Division:\n",
    "    - a / b        Ex. sum / 28\n",
    "\n",
    "- Modulus:\n",
    "    - a MOD b      Ex. 17 MOD 2 \n",
    "    - (Used with a % and it is the remainder after division)\n",
    "\n",
    "* **Just like in math, order of operations apply here :)**"
   ]
  },
  {
   "attachments": {},
   "cell_type": "markdown",
   "metadata": {},
   "source": [
    "# 3.4: Strings"
   ]
  },
  {
   "attachments": {},
   "cell_type": "markdown",
   "metadata": {},
   "source": [
    "**What is a string?**\n",
    "- ordered sequence of characters\n",
    "\n",
    "Some Examples of string procedures:\n",
    "\n",
    "- len(str)\n",
    "    - which gives the length of the string (how many letters there are) \n",
    "    \n",
    "    - len(\"happy\") returns **5**\n",
    "\n",
    "- concat(str1, str2)\n",
    "    - which combines str1 and str2 into one word\n",
    "\n",
    "    - concat(\"key\", \"board\") returns \"keyboard\"\n",
    "\n",
    "- substring(str1, start, length)\n",
    "    - starts with a letter within a string and then the length starts with the starting letter and prints each consecutive letter afterwards for however long the length is\n",
    "\n",
    "    - substring(\"APCSPrinciples\", 3, 6) returns \"CSPrin\""
   ]
  },
  {
   "attachments": {},
   "cell_type": "markdown",
   "metadata": {},
   "source": [
    "# 3.5: Boolean Expressions"
   ]
  },
  {
   "attachments": {},
   "cell_type": "markdown",
   "metadata": {},
   "source": [
    "- A **Boolean Value** is either true or false."
   ]
  },
  {
   "attachments": {},
   "cell_type": "markdown",
   "metadata": {},
   "source": [
    "**Relational Operators:**\n",
    "\n",
    "- Equal to:\n",
    "    - a = b        Ex. num_students = 30\n",
    "\n",
    "- Not Equal to:\n",
    "    - a ≠ b        Ex. count ≠ 10\n",
    "\n",
    "- Greater Than:\n",
    "    - a > b        Ex. grade > 70\n",
    "\n",
    "- Less Than:\n",
    "    - a < b        Ex. high_score < current_score\n",
    "\n",
    "- Greater Than or Equal to:\n",
    "    - a ≥ b      Ex. num_pets ≥ 0\n",
    "\n",
    "- Less Than or Equal to:\n",
    "    - a ≤ b      Ex. tacos ≤ 3"
   ]
  },
  {
   "attachments": {},
   "cell_type": "markdown",
   "metadata": {},
   "source": [
    "- Write a Boolean expression to determine if num1 odd:\n",
    "\n",
    "    - num1 MOD 2 = 1\n",
    "\n",
    "- Write a Boolean expression to check if the temperature outside is less than 90 degrees.\n",
    "\n",
    "    - temp < 90"
   ]
  },
  {
   "attachments": {},
   "cell_type": "markdown",
   "metadata": {},
   "source": [
    "**These examples use the relational operators above to display boolean expressions.**"
   ]
  },
  {
   "attachments": {},
   "cell_type": "markdown",
   "metadata": {},
   "source": [
    "**NOT:**\n",
    "\n",
    "isRaining =  False\n",
    "\n",
    "result = NOT(isRaining)"
   ]
  },
  {
   "attachments": {},
   "cell_type": "markdown",
   "metadata": {},
   "source": [
    "isRaining currently is false but when you use the NOT operator, the value outputted is true."
   ]
  },
  {
   "attachments": {},
   "cell_type": "markdown",
   "metadata": {},
   "source": [
    "**AND:**\n",
    "\n",
    "grade = 85\n",
    "\n",
    "result = grade > 70 AND grade ≤ 100\n",
    "\n",
    "if the grade is above 70 and grade is less than or equal to 100 aare both true, then the entire expression is true. Since 85 is greater than 70 that part of that condition is true, and since 85 is less than 100 that part is true so since both of those values are true, the overall value will output TRUE.\n",
    "\n",
    "grade = 45\n",
    "\n",
    "result = grade > 70 AND grade ≤ 100\n",
    "\n",
    "For this one, 45 is less than 100 so that condition is true, but 45 is not greater than 70 so that condition is false. since both conditions are not true, the output of this expression is FALSE.\n",
    "\n",
    " **BOTH CONDITIONS HAVE TO BE TRUE IN ORDER TO OUTPUT TRUE. IF ONE OR BOTH OR FALSE, THEN THE OUTPUT IS FALSE**"
   ]
  },
  {
   "attachments": {},
   "cell_type": "markdown",
   "metadata": {},
   "source": [
    "**OR:**\n",
    "\n",
    "score = 175\n",
    "\n",
    "high_score = 150\n",
    "\n",
    "lives = 2\n",
    "\n",
    "result = score > high_score OR lives = 0\n",
    "\n",
    "Since one of these values equals true, the value that is outputted by this expression is true because it either the first value OR the second value that has to be true.\n",
    "\n",
    "score = 100\n",
    "\n",
    "high_score = 150\n",
    "\n",
    "lives = 1\n",
    "\n",
    "result = score > high_score OR lives = 0\n",
    "\n",
    "Since both expressions are false, the entire expression ends up being false."
   ]
  }
 ],
 "metadata": {
  "kernelspec": {
   "display_name": "base",
   "language": "python",
   "name": "python3"
  },
  "language_info": {
   "codemirror_mode": {
    "name": "ipython",
    "version": 3
   },
   "file_extension": ".py",
   "mimetype": "text/x-python",
   "name": "python",
   "nbconvert_exporter": "python",
   "pygments_lexer": "ipython3",
   "version": "3.9.12"
  },
  "orig_nbformat": 4
 },
 "nbformat": 4,
 "nbformat_minor": 2
}
