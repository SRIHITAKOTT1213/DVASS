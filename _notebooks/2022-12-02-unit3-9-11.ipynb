{
 "cells": [
  {
   "cell_type": "markdown",
   "metadata": {},
   "source": [
    "# Unit 3.9 & 3.11\n",
    "- toc: true\n",
    "- badges: true\n",
    "- categories: [trimester 2 student teaching]"
   ]
  },
  {
   "cell_type": "markdown",
   "metadata": {},
   "source": [
    "## Unit 3.9\n",
    "\n",
    "### 3.9.1 Algorithms (Claire) lecture style, fluid\n",
    "\n",
    "#### A little review on Algorithms:\n",
    "\n",
    "what are the three components of an algorithm?\n",
    "- sel______\n",
    "- seq______\n",
    "- it_______\n",
    "\n",
    "Today we will be looking at algorithms from another standpoint.\n",
    "\n",
    "#### Main Idea 1: Algorithms can be written in different ways and still do the same thing\n",
    "- However, Algorithms that look similar might not always have the same result\n",
    "- Different algorithms can be used to solve the same problem\n",
    "\n",
    "#### Examples\n",
    "\n",
    "The goal with the two algorithms below is to show \"Wow! Good job!\" when you get an A and show \"Nice!\" when you get a B or C (pass), if you don't pass (lower than 70) it will show \"Do Better\""
   ]
  },
  {
   "cell_type": "code",
   "execution_count": 3,
   "metadata": {},
   "outputs": [
    {
     "name": "stdout",
     "output_type": "stream",
     "text": [
      "What Grade Did You Get?\n",
      "Nice!\n"
     ]
    }
   ],
   "source": [
    "print(\"What Grade Did You Get?\")\n",
    "grade = int(input(\"Enter Grade:\"))\n",
    "if grade >= 93:\n",
    "        print(\"Wow! Good job!\")\n",
    "if 70 <= grade < 93:\n",
    "        print(\"Nice!\")\n",
    "elif grade < 70:\n",
    "        print(\"Do Better\")"
   ]
  },
  {
   "cell_type": "markdown",
   "metadata": {},
   "source": [
    "Yay! it worked! Lets look at the next one. Do you notice any differences? Do you think this algorithm will still achieve the same goal? If not, what is the flaw?"
   ]
  },
  {
   "cell_type": "code",
   "execution_count": 2,
   "metadata": {},
   "outputs": [
    {
     "name": "stdout",
     "output_type": "stream",
     "text": [
      "What Grade Did You Get?\n"
     ]
    }
   ],
   "source": [
    "print(\"What Grade Did You Get?\")\n",
    "grade = int(input(\"Enter Grade:\"))\n",
    "if grade >= 90:\n",
    "        print(\"Wow! Good job!\")\n",
    "elif 70 < grade < 90:\n",
    "        print(\"Nice!\")\n",
    "elif grade < 70:\n",
    "        print(\"Do Better\")"
   ]
  },
  {
   "cell_type": "markdown",
   "metadata": {},
   "source": [
    "#### So, why is this important? Why are we even doing this?\n",
    "\n",
    "When 2 algorithms look extremely similar, it is easy to assume they do the same thing. However, that is not the case and we have learn how to notice small differences in code and pretty much debug.\n",
    "- just know that codes that look similar don't always produce the same things :)\n",
    "\n",
    "#### Real-life situation (Storytime)\n",
    "\n",
    "Tommy and Billy are working on solving the same issue with an algorithm<br>\n",
    "Tommy creates a functioning code and yells \"I did it!\"<br>\n",
    "He looks over at his friend Billy which is having a bit of trouble and he offers help<br>\n",
    "However, Billy's code looks basically the same! which confuses them<br>\n",
    "Then they remeber that they were taught that algorithms that look similar don't always have the same results and they collaborate to do further investigation:)\n",
    "\n",
    "Now, without running, investigate the algorithm below. This one looks different. Do you thing it will still achieve the same goal as above?"
   ]
  },
  {
   "cell_type": "code",
   "execution_count": 4,
   "metadata": {},
   "outputs": [
    {
     "name": "stdout",
     "output_type": "stream",
     "text": [
      "What Grade Did You Get?\n",
      "Wow! Good job!\n"
     ]
    }
   ],
   "source": [
    "print(\"What Grade Did You Get?\")\n",
    "grade = int(input(\"Enter Grade:\"))\n",
    "A = grade >= 90\n",
    "B = 70 <= grade < 90\n",
    "C = grade < 70\n",
    "if A:\n",
    "        print(\"Wow! Good job!\")\n",
    "elif B:\n",
    "        print(\"Nice!\")\n",
    "elif C:\n",
    "        print(\"Do Better\")"
   ]
  },
  {
   "cell_type": "markdown",
   "metadata": {},
   "source": [
    "Why is this important?\n",
    "\n",
    "When collaborating or working on group projects, two people might come up with two different ways to solve a problem, and that happens a lot.\n",
    "- know that same goal can be achieved in many ways (the possibilities are endless)\n",
    "- make notes in you code! (explain how it works to others or you future self)"
   ]
  },
  {
   "cell_type": "markdown",
   "metadata": {},
   "source": [
    "#### How to write Nested Conditionals as Boolean expressions\n",
    "\n",
    "the following 2 pieces of code is supposed to print \"don't go to school\" unless:\n",
    "- it is a weekday"
   ]
  },
  {
   "cell_type": "code",
   "execution_count": 5,
   "metadata": {},
   "outputs": [
    {
     "name": "stdout",
     "output_type": "stream",
     "text": [
      "go to school!\n"
     ]
    }
   ],
   "source": [
    "# setting variables here\n",
    "isHoliday = False\n",
    "isWeekday = True\n",
    "\n",
    "#if holiday, dont go to school\n",
    "if isHoliday == True:\n",
    "    print(\"don't go to school!\")\n",
    "\n",
    "# otherwise, if it is a weekday, go to school\n",
    "else:\n",
    "    if isWeekday == True:\n",
    "        print(\"go to school!\")\n",
    "    # but if it is neither a weekday or holiday, don't go to school\n",
    "    else:\n",
    "        print(\"don't go to school\")"
   ]
  },
  {
   "cell_type": "code",
   "execution_count": 8,
   "metadata": {},
   "outputs": [
    {
     "name": "stdout",
     "output_type": "stream",
     "text": [
      "don't go to school!\n"
     ]
    }
   ],
   "source": [
    "isHoliday = False\n",
    "isWeekday = True\n",
    "\n",
    "# setting variables here (same as above to make comparison easier)\n",
    "driveSchool = not(isHoliday) and isWeekday\n",
    "if driveSchool == False:\n",
    "    print(\"don't go to school!\")\n",
    "if driveSchool == True:\n",
    "    print(\"go to school!\")\n",
    "# now we can make a regular conditional/ if statement without having a nested conditional"
   ]
  },
  {
   "cell_type": "markdown",
   "metadata": {},
   "source": [
    "#### Hacks\n",
    "\n",
    "- why is it important to know that algorithms that look different can do the same thing and that algorithms that look the same might have different results?(0.15)\n",
    "- for the converted conditional to boolean conversion(0.10)\n",
    "- total: 0.25"
   ]
  },
  {
   "cell_type": "markdown",
   "metadata": {},
   "source": [
    "### 3.9.2 Developing Algorithms (Annika) very quite, asked basic question, shared float chart and natural language\n",
    "\n",
    "#### Developing Algorithms\n",
    "- When creating an algorithm, its good to outline its process before coding\n",
    "    - This ensures that it is **sequenced** correctly\n",
    "- You should represent the algorithm using a flowchart or natural language\n",
    "    - Visualization can help you better see the flow of the whole algorithm\n",
    "    - This may allow for the coding process to be more efficient and effective\n",
    "\n",
    "#### Review of Selection and Iteration\n",
    "- Algorithms with iteration repeat a function until a goal is reached\n",
    "    - To more easily represent an algorithm without showing all the repeated steps, we can use iteration\n",
    "- Algorithms with selection only go through certain functions if certain things are true or false\n",
    "\n",
    "##### Example 1\n",
    "\n",
    "![](https://mail.google.com/mail/u/0?ui=2&ik=307c2bfad8&attid=0.1&permmsgid=msg-a:r-3887059261601548865&th=184e4f4ea4a304ff&view=att&disp=safe&realattid=f_lbbiony40)\n",
    "\n",
    "1. Start\n",
    "2. The number of pretzels in the pack is 6\n",
    "3. Eat one pretzels, number of pretzels in pack goes down by 1\n",
    "4. How many pretzels are left?\n",
    "4. Repeat step 3 until number of pretzels is 0\n",
    "5. Display that pack is empty\n",
    "6. Finish"
   ]
  },
  {
   "cell_type": "code",
   "execution_count": 11,
   "metadata": {},
   "outputs": [
    {
     "name": "stdout",
     "output_type": "stream",
     "text": [
      "6\n",
      "5\n",
      "4\n",
      "3\n",
      "2\n",
      "1\n",
      "All done!\n"
     ]
    }
   ],
   "source": [
    "pretzel = 6\n",
    "while (pretzel > 0):\n",
    "    print(pretzel)\n",
    "    pretzel -= 1\n",
    "    \n",
    "print(\"All done!\")"
   ]
  },
  {
   "cell_type": "markdown",
   "metadata": {},
   "source": [
    "##### Example 2\n",
    "\n",
    "The parking rate for a garage is as follows: <br>\n",
    "Less than one hour: Free <br>\n",
    "1-2 hours: $5 <br>\n",
    "2-3 hours: $8 <br>\n",
    "3-4 hours: $10 <br>\n",
    "4+ hours: $12\n",
    "\n",
    "![](https://mail.google.com/mail/u/0?ui=2&ik=307c2bfad8&attid=0.1&permmsgid=msg-a:r2030496128188097827&th=184e52d1193a9407&view=att&disp=inline&realattid=f_lbbkvkt70)\n",
    "\n",
    "1. Start\n",
    "2. Input number of hours parked\n",
    "3. If hours is less than 1, cost is free\n",
    "4. If hours is between 1 and 2, cost is $5\n",
    "5. If hours is between 2 and 3, cost is $8\n",
    "6. If hours is between 3 and 4, cost is $10\n",
    "7. If hours is more than 4, cost is $12\n",
    "8. Display cost and goodbye\n",
    "9. Finish"
   ]
  },
  {
   "cell_type": "code",
   "execution_count": 12,
   "metadata": {},
   "outputs": [
    {
     "name": "stdout",
     "output_type": "stream",
     "text": [
      "The parking rate is as follows: \n",
      " Less than one hour: Free \n",
      " 1-2 hours: $5 \n",
      " 2-3 hours: $8 \n",
      " 3-4 hours: $10 \n",
      " 4+ hours: $12\n",
      "How many hours have you parked at this garage?\n",
      "2.0 hours costs:\n",
      "$8\n",
      "Have a good day!\n"
     ]
    }
   ],
   "source": [
    "print(\"The parking rate is as follows: \\n Less than one hour: Free \\n 1-2 hours: $5 \\n 2-3 hours: $8 \\n 3-4 hours: $10 \\n 4+ hours: $12\")\n",
    "\n",
    "time = float(input(\"How many hours have you parked at this garage?\"))\n",
    "print(\"How many hours have you parked at this garage?\")\n",
    "print(time, \"hours costs:\")\n",
    "\n",
    "if time < 1 :\n",
    "    print(\"Free\")\n",
    "elif time >= 1 and time < 2 :\n",
    "    print(\"$5\")\n",
    "elif time >= 2 and time < 3 :\n",
    "    print(\"$8\")\n",
    "elif time >= 3 and time < 4 :\n",
    "    print(\"$10\")\n",
    "else:\n",
    "    print(\"$12\")\n",
    "\n",
    "print(\"Have a good day!\")"
   ]
  },
  {
   "cell_type": "markdown",
   "metadata": {},
   "source": [
    "#### Hacks\n",
    "\n",
    "Develop your own complex algorithm using a flowchart and natural language, then code it!\n",
    "\n",
    "Requirements:\n",
    "- Includes both a flowchart AND natural language\n",
    "- Working code of the same algorithm\n",
    "- Incorporates selection AND/OR iteration\n",
    "- Make it creative!\n",
    "\n",
    "Tips:\n",
    "- [This site](https://online.visual-paradigm.com/app/diagrams/#diagram:proj=0&type=Flowchart&width=11&height=8.5&unit=inch) is good for making flowcharts!\n",
    "- Natural language should just be a list\n",
    "- Think about the whole process, not just the end result"
   ]
  },
  {
   "cell_type": "markdown",
   "metadata": {},
   "source": [
    "### 3.9.3 Using preexisting algorithms (Grace) . very fast, topic could have python\n",
    "\n",
    "#### Main Idea\n",
    "\n",
    "- Knowing existing algorithms can help construct new ones\n",
    "- simple existing algorithms can include\n",
    "    - determining min or max of two or more numbers\n",
    "    - computing the sum or average\n",
    "    - identifying if an integer is even or odd\n",
    "- Using existing correct algorithms can help as building blocks to reduce development time, testing, and identification of errors\n",
    "\n",
    "Create an algorithm that will start with any positive integer n and display the full sequence of numbers that result from following the Collatz Conjecture.\n",
    "\n",
    "Example: 6 -> 3 -> 10 -> 5 -> 16 -> 8 -> 4 -> 2 -> 1\n",
    "\n",
    "What does this function do?\n",
    "\n",
    "```\n",
    "if (n MOD 2 = 0)\n",
    "{\n",
    "    display(\"n is even\")\n",
    "}\n",
    "else\n",
    "{\n",
    "    display(\"n is odd\")\n",
    "}\n",
    "```\n",
    "\n",
    "\n",
    "\n",
    "By modifying the preexisting code, we can write create new code that follows th Collatz Conjecture.\n",
    "\n",
    "```\n",
    "DISPLAY (\"Choose a value for n\")\n",
    "n <- INPUT ()\n",
    "\n",
    "REPEAT UNTIL (n = 1)\n",
    "{\n",
    "IF (n MOD 2 = 0 )\n",
    "{\n",
    "    n <- n/2\n",
    "}\n",
    "ELSE\n",
    "{\n",
    "    n <- n * 3 + 1\n",
    "}\n",
    "```"
   ]
  },
  {
   "cell_type": "markdown",
   "metadata": {},
   "source": [
    "#### Hacks\n",
    "\n",
    "Fix the number guessing game\n",
    "1. Make a flow chart for the algorithm number guessing game\n",
    "2. Make a function that gets the user guess\n",
    "3. Modify the existing search function to give more encouraging feedback"
   ]
  },
  {
   "cell_type": "code",
   "execution_count": null,
   "metadata": {},
   "outputs": [],
   "source": [
    "import random\n",
    "\n",
    "#sets variables for the game\n",
    "num_guesses = 0\n",
    "user_guess = 0\n",
    "upper_bound = 100\n",
    "lower_bound = 0\n",
    "\n",
    "#generates a random number\n",
    "number = random.randint(1,100)\n",
    "\n",
    "# print(number)     #for testing purposes\n",
    "\n",
    "print(f\"I'm thinking of a number between 1 and 100.\")\n",
    "\n",
    "#Write a function that gets a guess from the user using input()\n",
    "def guess():\n",
    "    #add something here\n",
    "    return #add something here \n",
    "\n",
    "#Change the print statements to give feedback on whether the player guessed too high or too low\n",
    "def search(number, guess):\n",
    "    global lower_bound, upper_bound\n",
    "    if guess < number:\n",
    "        print(\"You are bad at guessing\") #change this\n",
    "        lower_bound = guess\n",
    "    elif guess > number:\n",
    "        print(\"You suck :(\") #change this\n",
    "        upper_bound = guess\n",
    "    return lower_bound, upper_bound\n",
    "\n",
    "while user_guess != number:\n",
    "    user_guess = guess()\n",
    "    num_guesses += 1\n",
    "    print(f\"You guessed {user_guess}.\")\n",
    "    lower_bound, upper_bound = search(number, user_guess)\n",
    "    print(f\"Guess a number between {lower_bound} and {upper_bound}.\")\n",
    "\n",
    "print(f\"You guessed the number in {num_guesses} guesses!\")"
   ]
  },
  {
   "cell_type": "markdown",
   "metadata": {},
   "source": [
    "## Unit 3.11 Binary Search (Claire)\n",
    "\n",
    "### Binary Search:\n",
    "\n",
    "repeatedly dividing a search interval in half\n",
    "\n",
    "### Binary Search Steps:\n",
    "\n",
    "- first put the numbers in order\n",
    "    - ascending\n",
    "    - descending\n",
    "- find the middle number first\n",
    "    - this is found by taking the highest index number plus the lowest index number and divide by 2\n",
    "![photo](https://cdn.discordapp.com/attachments/806618712056528906/1049218338116620339/IMG_8574.jpg)\n",
    "    - the numbers on the right will be greater and the numbers on the left will be smaller\n",
    "    - this can be represented with a binary tree\n",
    "        - middle number with the smaller number branched off on the left and bigger numbers branched off on the right\n",
    "![photo](https://cdn.discordapp.com/attachments/806618712056528906/1049218809539592212/IMG_1541.jpg)\n",
    "- these lists are not always numbers\n",
    "    - lists can be made with strings\n",
    "    - ex. [\"apple\", \"banana\", \"cherry\", \"peach\", \"watermelon\"]\n",
    "    - alphabetical order\n",
    "        - a-z\n",
    "        - z-a\n",
    "\n",
    "### Practice:\n",
    "\n",
    "1. What is the middle number in a Binary Search given the following set of numbers in order: 1, 5, 19, 44, 89\n",
    "2. What is the middle number in a Binary Search given the following set of numbers that are not in order: 3, 87, 12, 66, 22\n",
    "\n",
    "### Hacks:\n",
    "\n",
    "1. calculate the middle index and create a binary tree for each of these lists\n",
    "    - 12, 14, 43, 57, 79, 80, 99\n",
    "    - 92, 43, 74, 66, 30, 12, 1\n",
    "    - 7, 13, 96, 111, 33, 84, 60\n",
    "2. Using one of the sets of numbers from the question above, what would be the second number looked at in a binary search if the number is more than the middle number?\n",
    "3. Which of the following lists can NOT a binary search be used in order to find a targeted value?\n",
    "\n",
    "    a. [\"amy\", \"beverly\", \"christian\", \"devin\"]\n",
    "\n",
    "    b. [-1, 2, 6, 9, 19]\n",
    "\n",
    "    c. [3, 2, 8, 12, 99]\n",
    "    \n",
    "    d. [\"xylophone\", \"snowman\", \"snake\", \"doorbell\", \"author\"]"
   ]
  },
  {
   "cell_type": "markdown",
   "metadata": {},
   "source": [
    "### Rubric:\n",
    "\n",
    "All 4 hacks are graded the same way\n",
    "\n",
    "0.25/0.25 - shows full understanding of the lesson, completes all hacks assigned with explanation to go above and beyond, any extra hacks to show more understanding\n",
    "\n",
    "0.23/0.25 - shows understanding of algorithms/binary search and completes all hacks\n",
    "\n",
    "0.20/0.25 - does not understand algorithm/binary search and has not completed hacks"
   ]
  }
 ],
 "metadata": {
  "kernelspec": {
   "display_name": "Python 3.11.0 64-bit",
   "language": "python",
   "name": "python3"
  },
  "language_info": {
   "codemirror_mode": {
    "name": "ipython",
    "version": 3
   },
   "file_extension": ".py",
   "mimetype": "text/x-python",
   "name": "python",
   "nbconvert_exporter": "python",
   "pygments_lexer": "ipython3",
   "version": "3.11.0 (main, Nov 15 2022, 05:43:36) [Clang 14.0.0 (clang-1400.0.29.202)]"
  },
  "orig_nbformat": 4,
  "vscode": {
   "interpreter": {
    "hash": "1a1af0ee75eeea9e2e1ee996c87e7a2b11a0bebd85af04bb136d915cefc0abce"
   }
  }
 },
 "nbformat": 4,
 "nbformat_minor": 2
}
