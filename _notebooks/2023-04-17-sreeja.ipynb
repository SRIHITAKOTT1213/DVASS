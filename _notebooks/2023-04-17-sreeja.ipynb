{
 "cells": [
  {
   "cell_type": "markdown",
   "metadata": {},
   "source": [
    "# Using SQLite libraries to create a database with simulation data\n",
    "> In this lesson, we will go over the steps to create a database. \n",
    "- toc: true\n",
    "- title: Using SQLite libraries to create a database with simulation data\n",
    "- permalink: /database"
   ]
  },
  {
   "cell_type": "markdown",
   "metadata": {},
   "source": [
    "# Introduction to Databases \n",
    "We have already gone over databases in this class, but here is a refresher. A databse contains data that's stored in columns and rows. The information in this database can then be pulled from the database and can be used in a program. "
   ]
  },
  {
   "cell_type": "markdown",
   "metadata": {},
   "source": [
    "# The Database in our Project\n",
    "Our database in our project contains simulation data. It contains columns to store the username of the player and their game streak. "
   ]
  },
  {
   "cell_type": "markdown",
   "metadata": {},
   "source": [
    "# The Code for the Database"
   ]
  },
  {
   "cell_type": "code",
   "execution_count": null,
   "metadata": {},
   "outputs": [],
   "source": [
    "\"\"\" database dependencies to support sqliteDB examples \"\"\"\n",
    "from random import randrange\n",
    "from datetime import date\n",
    "import os, base64\n",
    "import json\n",
    "\n",
    "from __init__ import app, db\n",
    "from sqlalchemy.exc import IntegrityError\n",
    "from werkzeug.security import generate_password_hash, check_password_hash\n",
    "\n",
    "\n",
    "''' Tutorial: https://www.sqlalchemy.org/library.html#tutorials, try to get into Python shell and follow along '''\n",
    "\n",
    "\n",
    "# Define the User class to manpassword actions in the 'users' table\n",
    "# -- Object Relational Mapping (ORM) is the key concept of SQLAlchemy\n",
    "# -- a.) db.Model is like an inner layer of the onion in ORM\n",
    "# -- b.) User represents data we want to store, something that is built on db.Model\n",
    "# -- c.) SQLAlchemy ORM is layer on top of SQLAlchemy Core, then SQLAlchemy engine, SQL\n",
    "class SimulationData(db.Model):\n",
    "    __tablename__ = 'simulations'  # table name is plural, class name is singular\n",
    "\n",
    "    # Define the User schema with \"vars\" from object\n",
    "    _username = db.Column(db.String(255), unique=True, nullable=False)\n",
    "    _streak = db.Column(db.String(255), unique=True, nullable=False)\n",
    "    \n",
    "    \n",
    "    # constructor of a User object, initializes the instance variables within object (self)\n",
    "    def __init__(self, username=\"Sreeja\", streak=10):\n",
    "       # variables with self prefix become part of the object, \n",
    "        self._username = username\n",
    "        self._streak= streak\n",
    "       \n",
    "    \n",
    "    \n",
    "    # output content using str(object) in human readable form, uses getter\n",
    "    # output content using json dumps, this is ready for API response\n",
    "    def __str__(self):\n",
    "        return json.dumps(self.read())\n",
    "\n",
    "   \n",
    "\"\"\"Database Creation and Testing \"\"\"\n",
    "\n",
    "# Builds working data for testing\n",
    "def initSimulationData():\n",
    "    with app.app_context():\n",
    "        \"\"\"Create database and tables\"\"\"\n",
    "        db.create_all()\n",
    "\n",
    "        \"\"\"Tester data for table\"\"\"\n",
    "\n",
    "        s1 = SimulationData(username='sreeja', streak=1 )\n",
    "        \n",
    "        simulations = [s1]\n",
    "\n",
    "        \"\"\"Builds sample user/note(s) data\"\"\"\n",
    "        for s in simulations:\n",
    "            try:\n",
    "                s.create()\n",
    "                \n",
    "            except IntegrityError:\n",
    "                '''fails with bad or duplicate data'''\n",
    "\n",
    "                db.session.remove()\n",
    "                print(f\"Records exist, duplicate email, or error: s.username\")"
   ]
  }
 ],
 "metadata": {
  "kernelspec": {
   "display_name": "Python 3.10.11 64-bit",
   "language": "python",
   "name": "python3"
  },
  "language_info": {
   "codemirror_mode": {
    "name": "ipython",
    "version": 3
   },
   "file_extension": ".py",
   "mimetype": "text/x-python",
   "name": "python",
   "nbconvert_exporter": "python",
   "pygments_lexer": "ipython3",
   "version": "3.10.11"
  },
  "orig_nbformat": 4,
  "vscode": {
   "interpreter": {
    "hash": "bd385fe162c5ca0c84973b7dd5c518456272446b2b64e67c2a69f949ca7a1754"
   }
  }
 },
 "nbformat": 4,
 "nbformat_minor": 2
}
