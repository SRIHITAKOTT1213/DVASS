{
 "cells": [
  {
   "cell_type": "markdown",
   "metadata": {},
   "source": [
    "#  Algorithms and Logic\n",
    "> A discussion on Logic and Algorithms.  \n",
    "- toc: true\n",
    "- image: /images/truth.png\n",
    "- categories: []\n",
    "- type: pbl\n",
    "- week: 14"
   ]
  },
  {
   "cell_type": "markdown",
   "metadata": {},
   "source": [
    "## Algorithm\n",
    "> An algorithm typically means 'code' that solves a problem. Designing an algorithm often requires you to learn the Tech first and then consider how you design your code and algorithms. Code design can take many iterations.\n"
   ]
  },
  {
   "cell_type": "markdown",
   "metadata": {},
   "source": [
    "## Truth Tables\n",
    "> My topic for this blog is Truth Tables.  The illustration that follows displays the results of logical operators AND, OR, XOR, NOT versus binary 1 and 0.   The output produces a 'Truth Table'.\n",
    "\n",
    "![](images/truth.png)"
   ]
  },
  {
   "cell_type": "markdown",
   "metadata": {},
   "source": [
    "### Exploring Truth Tables operations\n",
    "> Exploration of this topic requires searching the language for logical operators, then figuring out how to display condition and test result.\n",
    "- Bitwise operations for Truth Tables typically represent 1 - True and 0 - False.\n",
    "- Logical expression in iteration and selection statements result in True or False\n",
    "\n",
    "> My objective is Truth Tables.  But in my exploration I did both Truth Table and Expression syntax"
   ]
  },
  {
   "cell_type": "code",
   "execution_count": 20,
   "metadata": {},
   "outputs": [
    {
     "name": "stdout",
     "output_type": "stream",
     "text": [
      "OR\n",
      "1 | 0 =  1\n",
      "~(1 | 0) =  0\n",
      "AND\n",
      "1 & 0 =  0\n",
      "~(1 & 0) =  1\n",
      "XOR\n",
      "1 ^ 1 =  0\n",
      "Boolean OR\n",
      "True or False =  True\n",
      "Boolean AND\n",
      "True and False =  False\n",
      "Boolean XOR\n",
      "True != True =  True\n"
     ]
    }
   ],
   "source": [
    "# Bitwise Tests\n",
    "print(\"OR\")\n",
    "print( \"1 | 0 = \", 1 | 0)\n",
    "print( \"~(1 | 0) = \", ~(1 | 0) % 2)  # 1 is an integer, not a bit so remainder (modulo) does trick\n",
    "print(\"AND\")\n",
    "print( \"1 & 0 = \", 1 & 0)\n",
    "print( \"~(1 & 0) = \", ~(1 & 0) % 2)  # modulo again\n",
    "print(\"XOR\")\n",
    "print( \"1 ^ 1 = \", 1 ^ 1)\n",
    "print()\n",
    "\n",
    "# Boolean Tests\n",
    "print(\"Boolean OR\")\n",
    "print( \"True or False = \", True or False)\n",
    "print(\"Boolean AND\")\n",
    "print( \"True and False = \", True and False)\n",
    "print(\"Boolean XOR\")\n",
    "print( \"True != True = \", True != True)\n"
   ]
  },
  {
   "cell_type": "markdown",
   "metadata": {},
   "source": [
    "### Algorithm 1\n",
    "> This algorithm focuses on small reusable procedures/functions (def) for bitwise tests.   From the exploratory experience above it seems like a lot of typing would be necessary to represent possibilities."
   ]
  },
  {
   "cell_type": "code",
   "execution_count": 7,
   "metadata": {},
   "outputs": [
    {
     "name": "stdout",
     "output_type": "stream",
     "text": [
      "***** Method 1 *****\n",
      "Bitwise &\n",
      "1 & 1 is 1\n",
      "1 & 0 is 0\n",
      "0 & 1 is 0\n",
      "0 & 0 is 0\n",
      "Bitwise NAND\n",
      "NAND(1 & 1) is 0\n",
      "NAND(1 & 0) is 1\n",
      "NAND(0 & 1) is 1\n",
      "NAND(0 & 0) is 1\n",
      "Bitwise |\n",
      "1 | 1 is 1\n",
      "1 | 0 is 1\n",
      "0 | 1 is 1\n",
      "0 | 0 is 0\n",
      "Bitwise NOR\n",
      "NOR(1 | 1) is 0\n",
      "NOR(1 | 0) is 0\n",
      "NOR(0 | 1) is 0\n",
      "NOR(0 | 0) is 1\n",
      "Bitwise ^\n",
      "1 ^ 1 is 0\n",
      "1 ^ 0 is 1\n",
      "0 ^ 1 is 1\n",
      "0 ^ 0 is 0\n"
     ]
    }
   ],
   "source": [
    "import operator  # functions for all comparisons, logical operations, mathematical operations and sequence operations\n",
    "\n",
    "# builds truth table\n",
    "def truth_options():\n",
    "    a_opts = [1, 0]\n",
    "    b_opts = [1, 0]\n",
    "    return [(a, b) for a in a_opts for b in b_opts]  # double for permutes options\n",
    "\n",
    "# provides equivalent function lookup for bitwise using operator functions\n",
    "def bitwise_options(op):\n",
    "    ops = {'&': operator.and_,\n",
    "           '|': operator.or_,\n",
    "           '^': operator.xor}\n",
    "    return ops[op]\n",
    "\n",
    "# control/eval for bitwise operators, selection is based on number of operators\n",
    "def bitwise_eval(op, op2=\"\"):\n",
    "    if op2 == \"\":\n",
    "        op_func = bitwise_options(op)\n",
    "        print(f\"Bitwise {op}\")\n",
    "        for a, b in truth_options():\n",
    "            print(f\"{a} {op} {b} is {op_func(a, b)}\")\n",
    "    else:\n",
    "        op2_func = bitwise_options(op2)\n",
    "        print(f\"Bitwise {op}\")\n",
    "        for a, b in truth_options():\n",
    "            print(f\"{op}({a} {op2} {b}) is {(1, 0)[op2_func(a, b)]}\")  # opposite: index 0 returns 1, index 1 return 0\n",
    "\n",
    "def method1():\n",
    "    bitwise_eval(\"&\")\n",
    "    bitwise_eval(\"NAND\", \"&\")\n",
    "    bitwise_eval(\"|\")\n",
    "    bitwise_eval(\"NOR\", \"|\")\n",
    "    bitwise_eval(\"^\")\n",
    "\n",
    "# call bitwise evaluation of truth table\n",
    "if __name__ == \"__main__\":\n",
    "    print(\"***** Method 1 *****\")\n",
    "    method1()"
   ]
  },
  {
   "cell_type": "markdown",
   "metadata": {},
   "source": [
    "### Truth Table - Algorithm 2\n",
    "> This algorithm above seemed to me to lose clarity with all the functions.  The second attempt focuses on truth tables as a linear sequence, with loops for required repetitions.  This seemed more understandable to me than my 1st attempt."
   ]
  },
  {
   "cell_type": "code",
   "execution_count": 8,
   "metadata": {},
   "outputs": [
    {
     "name": "stdout",
     "output_type": "stream",
     "text": [
      "***** Method 2 *****\n",
      "and 1 & 1: 1\n",
      "and 1 & 0: 0\n",
      "and 0 & 1: 0\n",
      "and 0 & 0: 0\n",
      "nand ~(1 & 1): 0\n",
      "nand ~(1 & 0): 1\n",
      "nand ~(0 & 1): 1\n",
      "nand ~(0 & 0): 1\n",
      "or 1 | 1: 1\n",
      "or 1 | 0: 1\n",
      "or 0 | 1: 1\n",
      "or 0 | 0: 0\n",
      "nor ~(1 | 1): 0\n",
      "nor ~(1 | 0): 0\n",
      "nor ~(0 | 1): 0\n",
      "nor ~(0 | 0): 1\n",
      "xor 1 ^ 1: 0\n",
      "xor 1 ^ 0: 1\n",
      "xor 0 ^ 1: 1\n",
      "xor 0 ^ 0: 0\n"
     ]
    }
   ],
   "source": [
    "# each bitwise operator is iterated through truth table \n",
    "def method2():\n",
    "    truth_table = [[1,1], [1,0], [0,1], [0,0]]\n",
    "    for a, b in truth_table:\n",
    "        print(f\"and {a} & {b}: {a & b}\")\n",
    "    for a, b in truth_table:\n",
    "        print(f\"nand ~({a} & {b}): {((a & b) + 1) % 2}\") # warning: ~ negates entire integer without modulo\n",
    "    for a, b in truth_table:\n",
    "        print(f\"or {a} | {b}: {a | b}\")\n",
    "    for a, b in truth_table:\n",
    "        print(f\"nor ~({a} | {b}): {((a | b) + 1) % 2}\")  # warning: see above\n",
    "    for a, b in truth_table:\n",
    "        print(f\"xor {a} ^ {b}: {a ^ b}\")\n",
    "\n",
    "\n",
    "# call bitwise evaluation of truth table\n",
    "if __name__ == \"__main__\":\n",
    "    print(\"***** Method 2 *****\")\n",
    "    method2()"
   ]
  },
  {
   "cell_type": "markdown",
   "metadata": {},
   "source": [
    "### Linear Sequence of code\n",
    "> The order of executions is strictly from top to bottom. This is good for learning, but is typically a poor method for an Algorithm!  This was my 1st exploration above."
   ]
  },
  {
   "cell_type": "markdown",
   "metadata": {},
   "source": [
    "### Procedure (Function)\n",
    "> A Procedure is a set of code instructions that has been abstracted into logical parts. Each code abstraction is called \"Procedural Abstraction\".  \n",
    "- In Python, using procedures (def) means you are starting to write \"good\" code vs \"bad\" code, mostly in terms of reusability of logic. \n",
    "- A procedure needs to be activated or called, this is performed in the __main__ selections above."
   ]
  },
  {
   "cell_type": "markdown",
   "metadata": {},
   "source": [
    "### Hacks \n",
    "> As we explore the algorithm Unit students will be designing lessons and homework.  Each lesson will have Hacks.   Here are some hacks that could go with the lesson above.  The three weeks after Thanksgiving will be focused on this activity and build personal portfolio.\n",
    "\n",
    "> Try to build a Truth Table as shown above in Python, but switch to JavaScript...\n",
    "- Begin by showing understanding of problem using console.log, this problem can be done in Jupyter Notebook\n",
    "- Build a Truth Table in JavaScript showing output in HTML, this problem is best in FastPages\n",
    "\n",
    "> Pick your Algorithmic hack, build in Python and JavaScript.  Here are some ideas..\n",
    "- Binary to Hexadecimal to Decimal conversions\n",
    "- Fibonacci\n",
    "- Palindrome\n",
    "- Other\n",
    "\n",
    "> Come up with a Procedure/Function that show...   \n",
    "- Data Abstraction\n",
    "- Procedural Abstraction\n",
    "- Algorithm using iteration and selection\n",
    "- Frontend / Backend, using an API and persistent storage"
   ]
  },
  {
   "cell_type": "markdown",
   "metadata": {},
   "source": []
  }
 ],
 "metadata": {
  "kernelspec": {
   "display_name": "Python 3.10.6 64-bit",
   "language": "python",
   "name": "python3"
  },
  "language_info": {
   "codemirror_mode": {
    "name": "ipython",
    "version": 3
   },
   "file_extension": ".py",
   "mimetype": "text/x-python",
   "name": "python",
   "nbconvert_exporter": "python",
   "pygments_lexer": "ipython3",
   "version": "3.10.6"
  },
  "orig_nbformat": 4,
  "vscode": {
   "interpreter": {
    "hash": "aee8b7b246df8f9039afb4144a1f6fd8d2ca17a180786b69acc140d282b71a49"
   }
  }
 },
 "nbformat": 4,
 "nbformat_minor": 2
}
