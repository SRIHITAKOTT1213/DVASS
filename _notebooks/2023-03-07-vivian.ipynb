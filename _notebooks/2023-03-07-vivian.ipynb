{
 "cells": [
  {
   "attachments": {},
   "cell_type": "markdown",
   "metadata": {},
   "source": [
    "#  Algorithms, Calling and Developing Procedures, Algorithmic Efficiency\n",
    "- toc: true\n",
    "- comments: true"
   ]
  },
  {
   "attachments": {},
   "cell_type": "markdown",
   "metadata": {},
   "source": [
    "# Introduction to Algorithms\n",
    "- an algorithm is a set of instructions that describes how to solve a problem or perform a specific task using a computer program. \n",
    "- It is a precise sequence of computational steps that take an input and produce an output\n",
    "\n",
    "## How do Algorithms relate to data structures?\n",
    "- Algorithms often rely on specific data structures to solve problems efficiently. \n",
    "- Sorting algorithms require a data structure such as an array or a linked list to store and manipulate data.\n",
    "- Searching algorithms such as binary search require data structures like arrays or trees to organize and search through data.\n",
    "\n"
   ]
  },
  {
   "attachments": {},
   "cell_type": "markdown",
   "metadata": {},
   "source": [
    "# Calling and Developing Procedures\n",
    "- A procedure is a sequence of instructions that performs a specific task.\n",
    "- To call a procedure, you need to know its name and any arguments it requires.\n",
    "- When a procedure is called, the program jumps to its first instruction and starts executing it.\n",
    "- The arguments passed to a procedure can be used within the procedure to perform specific tasks or calculations.\n",
    "- After the procedure has completed its task, it returns control back to the calling program.\n"
   ]
  },
  {
   "cell_type": "code",
   "execution_count": null,
   "metadata": {},
   "outputs": [],
   "source": [
    "# Define a procedure that takes two arguments and prints their sum\n",
    "def add_numbers(a, b):\n",
    "    sum = a + b\n",
    "    print(\"The sum of\", a, \"and\", b, \"is\", sum)\n",
    "\n",
    "# Call the procedure with arguments 5 and 7\n",
    "add_numbers(5, 7)"
   ]
  },
  {
   "attachments": {},
   "cell_type": "markdown",
   "metadata": {},
   "source": [
    "- The result of the procedure can be stored in a variable, printed to the screen, or used in any other way that is required by the program.\n",
    "- Procedures can be defined within the same program or in external files, and can be reused across multiple parts of the program.\n",
    "- To avoid errors and improve code readability, it's important to define and call procedures with proper syntax and conventions that are appropriate for the programming language you're using."
   ]
  },
  {
   "cell_type": "code",
   "execution_count": null,
   "metadata": {},
   "outputs": [],
   "source": [
    "def calculate_average(numbers):\n",
    "    total = sum(numbers)\n",
    "    count = len(numbers)\n",
    "    average = total / count\n",
    "    return average\n",
    "\n",
    "# Call the procedure with a list of numbers\n",
    "numbers_list = [10, 20, 30, 40, 50]\n",
    "result = calculate_average(numbers_list)\n",
    "\n",
    "# Display the result\n",
    "print(\"The average of\", numbers_list, \"is\", result)"
   ]
  },
  {
   "attachments": {},
   "cell_type": "markdown",
   "metadata": {},
   "source": [
    "# Algorithmic Efficiency\n",
    "- Algorithmic efficiency refers to the amount of time and resources needed to execute an algorithm.\n",
    "- The efficiency of an algorithm can be measured in terms of its time complexity and space complexity.\n",
    "- Time complexity refers to the amount of time required by an algorithm to complete its task as a function of its input size.\n",
    "- Space complexity refers to the amount of memory required by an algorithm to complete its task as a function of its input size.\n",
    "- The efficiency of an algorithm can be analyzed using Big O notation, which provides an upper bound on the worst-case time and space complexity of the algorithm.\n",
    "- An algorithm with better efficiency requires less time and resources to execute and is generally considered to be more desirable.\n",
    "- Efficiency can be improved by optimizing algorithms or by using more efficient data structures and algorithms.\n",
    "- Some common techniques for improving efficiency include reducing the size of input data, caching results, and parallelizing tasks.\n",
    "- Understanding algorithmic efficiency is important in software development, as it can impact the performance of applications and their ability to scale with larger data sets."
   ]
  }
 ],
 "metadata": {
  "kernelspec": {
   "display_name": "base",
   "language": "python",
   "name": "python3"
  },
  "language_info": {
   "codemirror_mode": {
    "name": "ipython",
    "version": 3
   },
   "file_extension": ".py",
   "mimetype": "text/x-python",
   "name": "python",
   "nbconvert_exporter": "python",
   "pygments_lexer": "ipython3",
   "version": "3.9.12"
  },
  "orig_nbformat": 4,
  "vscode": {
   "interpreter": {
    "hash": "8b82d5009c68ba5675978267e2b13a671f2a7143d61273c5a3813c97e0b2493d"
   }
  }
 },
 "nbformat": 4,
 "nbformat_minor": 2
}
