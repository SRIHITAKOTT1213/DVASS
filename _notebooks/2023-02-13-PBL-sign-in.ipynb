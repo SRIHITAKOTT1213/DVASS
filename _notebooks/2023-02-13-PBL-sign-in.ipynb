{
 "cells": [
  {
   "attachments": {},
   "cell_type": "markdown",
   "metadata": {},
   "source": [
    "#  Full Stack User Sign-in\n",
    "> This describes markdown file that activates security API, this performs user lookup in backend database.\n",
    "- toc: true\n",
    "- categories: []\n",
    "- type: pbl\n",
    "- week: 23"
   ]
  },
  {
   "attachments": {},
   "cell_type": "markdown",
   "metadata": {},
   "source": [
    "\n",
    "## [Runtime](https://nighthawkcoders.github.io/APCSP/data/login)\n",
    "> Observe that on successful login “local storage” is updated , unsuccessful \"local storage\" is deleted.  This data can be used and displayed on other pages, as local storage is stored in the users browser.  This data can be used to associate user with things like a leader board, fitness statistics, or favorite cars.\n",
    "- user id: toby\n",
    "- password: 123toby"
   ]
  },
  {
   "attachments": {},
   "cell_type": "markdown",
   "metadata": {},
   "source": [
    "## [Frontend code](https://github.com/nighthawkcoders/APCSP/blob/master/_posts/2022-07-10-PBL-login.md), [raw](https://raw.githubusercontent.com/nighthawkcoders/APCSP/master/_posts/2022-07-10-PBL-login.md)\n",
    ">  Sends input of user id and password to backend, if success it displays result\n"
   ]
  },
  {
   "cell_type": "code",
   "execution_count": null,
   "metadata": {
    "vscode": {
     "languageId": "html"
    }
   },
   "outputs": [],
   "source": [
    "{% include nav_data.html %}\n",
    "\n",
    "<form action=\"javascript:login_user()\">\n",
    "    <p><label>\n",
    "        User ID:\n",
    "        <input type=\"text\" name=\"uid\" id=\"uid\" required>\n",
    "    </label></p>\n",
    "    <p><label>\n",
    "        Password:\n",
    "        <input type=\"password\" name=\"password\" id=\"password\" required>\n",
    "    </label></p>\n",
    "    <p><button>Login</button></p>\n",
    "    <p id=\"message\"></p>\n",
    "</form>\n",
    "\n",
    "<script>\n",
    "    // URL for deployment\n",
    "    var url = \"https://flask.nighthawkcodingsociety.com\"\n",
    "    // Comment out next line for local testing\n",
    "    //url = \"http://localhost:8086\"\n",
    "    // Authenticate endpoint\n",
    "    const login_url = url + '/api/users/authenticate';\n",
    "\n",
    "\n",
    "    function login_user(){\n",
    "        // Set body to include login data\n",
    "        const body = {\n",
    "            uid: document.getElementById(\"uid\").value,\n",
    "            password: document.getElementById(\"password\").value,\n",
    "        };\n",
    "\n",
    "        // Set Headers to support cross origin\n",
    "        const requestOptions = {\n",
    "            method: 'POST',\n",
    "            mode: 'cors', // no-cors, *cors, same-origin\n",
    "            cache: 'no-cache', // *default, no-cache, reload, force-cache, only-if-cached\n",
    "            // credentials: 'include', // include, *same-origin, omit\n",
    "            body: JSON.stringify(body),\n",
    "            headers: {\n",
    "                \"content-type\": \"application/json\",\n",
    "            },\n",
    "        };\n",
    "\n",
    "        // Fetch JWT\n",
    "        fetch(login_url, requestOptions)\n",
    "        .then(response => {\n",
    "            // trap error response from Web API\n",
    "            if (response.status !== 200) {\n",
    "                const message = 'Login error: ' + response.status + \" \" + response.statusText;\n",
    "                document.getElementById(\"message\").innerHTML = message;\n",
    "                localStorage.removeItem(\"uid\");\n",
    "                localStorage.removeItem(\"visitor\");\n",
    "                return;\n",
    "            }\n",
    "            // Valid response will contain json data\n",
    "            response.json().then(data => {\n",
    "                const message = 'Login success: ' + data.name;\n",
    "                document.getElementById(\"message\").innerHTML = message;\n",
    "                localStorage.setItem(\"uid\", data.uid);\n",
    "                localStorage.setItem(\"visitor\", data.name);\n",
    "            })\n",
    "        })\n",
    "    }\n",
    "\n",
    "\n",
    "</script>"
   ]
  },
  {
   "attachments": {},
   "cell_type": "markdown",
   "metadata": {},
   "source": [
    "## [Backend code](https://github.com/nighthawkcoders/flask_portfolio/blob/main/api/user.py#L63-L81) \n",
    "> Looks up user id, validates password, returns data details from user table in database."
   ]
  },
  {
   "cell_type": "code",
   "execution_count": null,
   "metadata": {},
   "outputs": [],
   "source": [
    "class _Security(Resource):\n",
    "\n",
    "        def post(self):\n",
    "            ''' Read data for json body '''\n",
    "            body = request.get_json()\n",
    "            \n",
    "            ''' Get Data '''\n",
    "            uid = body.get('uid')\n",
    "            if uid is None or len(uid) < 2:\n",
    "                return {'message': f'User ID is missing, or is less than 2 characters'}, 400\n",
    "            password = body.get('password')\n",
    "            \n",
    "            ''' Find user '''\n",
    "            user = User.query.filter_by(_uid=uid).first()\n",
    "            if user is None or not user.is_password(password):\n",
    "                return {'message': f\"Invalid user id or password\"}, 400\n",
    "            \n",
    "            ''' authenticated user '''\n",
    "            return jsonify(user.read())"
   ]
  }
 ],
 "metadata": {
  "kernelspec": {
   "display_name": "Python 3",
   "language": "python",
   "name": "python3"
  },
  "language_info": {
   "name": "python",
   "version": "3.9.12"
  },
  "orig_nbformat": 4,
  "vscode": {
   "interpreter": {
    "hash": "07efb0c17bd1bebb54bd0de05e4d4c769f7a564dddf5b4c65148f358f9195f99"
   }
  }
 },
 "nbformat": 4,
 "nbformat_minor": 2
}
