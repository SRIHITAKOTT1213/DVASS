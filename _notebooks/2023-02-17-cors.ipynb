{
 "cells": [
  {
   "attachments": {},
   "cell_type": "markdown",
   "metadata": {},
   "source": [
    "# Guide to Dealing with CORS \n",
    "- badges: true\n",
    "- toc: true\n",
    "- author: Vivian Ni\n",
    "- comments: true\n"
   ]
  },
  {
   "attachments": {},
   "cell_type": "markdown",
   "metadata": {},
   "source": [
    "## What is CORS?\n",
    "- Cross-Origin Resource Sharing (CORS) is an HTTP-header based mechanism that allows a server to indicate any origins (domain, scheme, or port) other than its own from which a browser should permit loading resources.\n",
    "- Its essentially a security feature\n",
    "\n",
    "How it goes down:\n",
    "1. The browser(frontend) sends the GET request with an extra Origin HTTP header to service.example.com (deployed backend) containing the domain that served the parent page <br>\n",
    "`Origin: http://www.example.com` // frontend url\n",
    "2. The server at service.example.com sends one of these responses:\n",
    "<br>\n",
    "`Access-Control-Allow-Origin: http://www.example.com` //backend allows the frontend url to access its contents <br>\n",
    "`Access-Control-Allow-Origin: *` //backend allows any site to access its contents"
   ]
  },
  {
   "attachments": {},
   "cell_type": "markdown",
   "metadata": {},
   "source": [
    "What is the Access-Control-Allow-Origin response header?\n",
    "- The Access-Control-Allow-Origin header is included in the response(response comes from backend) from site B to a request(fetch from frontend) site A, and identifies the permitted origin of the request. A web browser compares the Access-Control-Allow-Origin with the requesting website's origin and permits access to the response if they match.\n",
    "- Including the Access-Control-Allow-Origin header in the client-side request can be useful in some cases, such as when you are working with a third-party API and want to make sure that your requests are allowed by the server. \n",
    "- It can also be used during development or testing, when you may not have control over the server-side configuration\n",
    "![sites](https://github.com/vivianknee/FastPages/blob/master/images/sites.jpg?raw=true)\n",
    "A better model:\n",
    "![system](https://github.com/vivianknee/FastPages/blob/master/images/system.jpg?raw=true)"
   ]
  },
  {
   "attachments": {},
   "cell_type": "markdown",
   "metadata": {},
   "source": [
    "Issues with CORS\n",
    "- When trying to start a local server and test your frontend and backend connection, cors is often something that gets in the way.\n",
    "- Unfortunately this error can prevent any sort of backend connection without proper code. Usually this error will appear when a header for cors is not specified or your backend url is not permitted by cors\n",
    "\n",
    "![error](https://github.com/vivianknee/FastPages/blob/master/images/error.jpg?raw=true)\n",
    "\n",
    "I'm sure you've seen it... \n",
    "So here's a method to bypass CORS locally. Eventually, when both your frontend and backend are deployed, it's good practice to have CORS implemented since your site could have some security risk if you simply bypass it. "
   ]
  },
  {
   "attachments": {},
   "cell_type": "markdown",
   "metadata": {},
   "source": [
    "## Local x Local\n",
    "#### Setup local backend\n",
    "> How to bypass CORS with a local backend and frontend running\n",
    "\n",
    "1. Run your backend locally by running the main.py file on your flask repository in vscode\n",
    "2. Get the url of your backend server. \n",
    "\n",
    "![url](https://github.com/vivianknee/FastPages/blob/master/images/url.png?raw=true)\n",
    "\n",
    "#### Setup local frontend\n",
    "- run the command `bundle exec jekyll serve` in terminal to start your frontend locally \n",
    "- Use the url from the picture above to write a 'fetch' statement (doesn't have to be like whats written below) to reference the local url and your api\n"
   ]
  },
  {
   "cell_type": "code",
   "execution_count": null,
   "metadata": {
    "vscode": {
     "languageId": "javascript"
    }
   },
   "outputs": [],
   "source": [
    "fetch('http://127.0.0.1:8080/api/yourapi/').then(function(response) { \n",
    "    return response.json();\n",
    "  });"
   ]
  },
  {
   "attachments": {},
   "cell_type": "markdown",
   "metadata": {},
   "source": [
    "#### Solution 1: Code in main.py\n",
    "- In the main.py file on your flask server, there should be a section of code at the bottom of the page that is already built in (by Mr. Mort) to aid in any cors errors. \n",
    "- It looks like this:"
   ]
  },
  {
   "cell_type": "code",
   "execution_count": null,
   "metadata": {},
   "outputs": [],
   "source": [
    "if __name__ == \"__main__\":\n",
    "    # change name for testing\n",
    "    from flask_cors import CORS\n",
    "    cors = CORS(app)\n",
    "    app.run(debug=True, host=\"0.0.0.0\", port=\"8080\")"
   ]
  },
  {
   "attachments": {},
   "cell_type": "markdown",
   "metadata": {},
   "source": [
    "- Background info on **flask_cors**\n",
    "    - **flask_cors** is a Flask extension for handling Cross Origin Resource Sharing (CORS), making cross-origin AJAX possible. This package has a simple philosophy: when you want to enable CORS, you wish to enable it for all use cases on a domain. This means no mucking around with different allowed headers, methods, etc.\n",
    "    - in simple terms, this extension allows you to avoid dealing with annoying headers and access the domains you need\n",
    "\n",
    "- Possible errors\n",
    "    - \"module cannot be resolved\"\n",
    "        - cd to your repository file path\n",
    "        - make sure you have the prefix (base) (aka type wsl)\n",
    "        - pip install -U flask-cors"
   ]
  },
  {
   "attachments": {},
   "cell_type": "markdown",
   "metadata": {},
   "source": [
    "#### Solution 2: Download google Extension\n",
    "- Good for quick testing purposes\n",
    "- Download this Google chrome extension: <a href=\"https://chrome.google.com/webstore/detail/allow-cors-access-control/lhobafahddgcelffkeicbaginigeejlf?hl=en\">Allow CORS: Access-Control-Allow-origin</a>\n",
    "- Toggle the extension so that its ON\n",
    "![url](https://github.com/vivianknee/FastPages/blob/master/images/cors.jpg?raw=true)\n",
    "\n",
    "Now try interacting with your frontend site, and the fetch will work"
   ]
  },
  {
   "attachments": {},
   "cell_type": "markdown",
   "metadata": {},
   "source": [
    "## Local x Deployed\n",
    "- It's worth noting that including the Access-Control-Allow-origin in the client-side(frontend repo) request does not actually enable cross-origin requests if the server(backend) is not configured to allow them. The server must still include the header in its response for the request to be allowed.\n",
    "\n",
    "#### Local Frontend\n",
    "- same steps as described previously to setup the local frontend.\n",
    "- Instead of fetching from the local url, replace it with the domain url of your backend server."
   ]
  },
  {
   "cell_type": "code",
   "execution_count": null,
   "metadata": {
    "vscode": {
     "languageId": "javascript"
    }
   },
   "outputs": [],
   "source": [
    "fetch('https://finalssvgcars.duckdns.org/api/cars/').then(function(response) { \n",
    "    return response.json();\n",
    "  });"
   ]
  },
  {
   "attachments": {},
   "cell_type": "markdown",
   "metadata": {},
   "source": [
    "#### Deployed Backend\n",
    "- In order to get the combination of local frontend and deployed backend to work, the Access-Control-Allow-origin must be configured on the server side. And it is\n",
    "- Setup AWS by following the deployment guide on the APCSP Website\n",
    "- When you set up the nginx configuration files, you'll notice:\n",
    "![aws](https://github.com/vivianknee/FastPages/blob/master/images/aws.jpg?raw=true)\n",
    "- As you can see the header `\"Access-Control-Allow-Origin\" *` is present in the nginx files in sites-available and sites-enabled\n",
    "- The line `proxy_pass http://localhost:8777` is allowing the frontend local url to access the deployed backend site\n",
    "- Another thing to note however is that the \"*\" allows any frontend site to access the backend. In order to secure this, you need to put something different in place of the *. Will go over this in the next sections"
   ]
  },
  {
   "attachments": {},
   "cell_type": "markdown",
   "metadata": {},
   "source": [
    "## Deployed x Local\n",
    "- This combination should work identical to the Local x Local combination. Thus any solutions for that combination also apply to this combination.\n",
    "\n",
    "#### Deployed Frontend\n",
    "- Go to your repository on github\n",
    "- when you scroll down, under the section called \"Environment\", click the link that says \"github pages\"\n",
    "- Then click \"view deployment\"\n",
    "- Your frontend deployed url should follow this format: https://username.github.io/name_of_repository/\n",
    "- Your fetch statement should use the local url of the backend server (identical to that of the Local x Local combination) \n",
    "\n",
    "#### Local Backend\n",
    "- run main.py"
   ]
  },
  {
   "attachments": {},
   "cell_type": "markdown",
   "metadata": {},
   "source": [
    "## Deployed x Deployed\n",
    "#### Deployed Frontend\n",
    "- Your fetch statement should use the deployed url of the backend server (identical to that of the Local x Deployed combination) \n",
    "\n",
    "#### Deployed Backend\n",
    "![aws](https://github.com/vivianknee/FastPages/blob/master/images/aws.jpg?raw=true)\n",
    "- In the Local x Deployed we talked about the the header `\"Access-Control-Allow-Origin\" *` that is present in the nginx files in sites-available and sites-enabled\n",
    "- Instead of using the \"*\", replace it with the url of your frontend site.\n",
    "- This secures you server and ensures that the only website that can access your backend server is the your frontend server!\n",
    "here is an example…"
   ]
  },
  {
   "cell_type": "code",
   "execution_count": null,
   "metadata": {
    "vscode": {
     "languageId": "perl"
    }
   },
   "outputs": [],
   "source": [
    "location / {\n",
    "    proxy_pass http://localhost:8085;\n",
    "    # Preflighted requests\n",
    "    if ($request_method = OPTIONS ) {\n",
    "            add_header “Access-Control-Allow-Credentials”  “true”;\n",
    "            add_header “Access-Control-Allow-Origin”  “https://nighthawkcoders.github.io”;\n",
    "            add_header “Access-Control-Allow-Methods” “GET, POST, OPTIONS, HEAD”;\n",
    "            add_header “Access-Control-Allow-MaxAge”  600;\n",
    "            add_header “Access-Control-Allow-Headers” “Content-Type, Authorization, x-csrf-token”;\n",
    "            return 200;\n",
    "    }\n",
    "}"
   ]
  }
 ],
 "metadata": {
  "kernelspec": {
   "display_name": "Python 3",
   "language": "python",
   "name": "python3"
  },
  "language_info": {
   "name": "python",
   "version": "3.10.5"
  },
  "orig_nbformat": 4,
  "vscode": {
   "interpreter": {
    "hash": "32ed86b3ffa559bcacbace9601ce361a752c54a5601a76201e2c8b67a3b7e6fb"
   }
  }
 },
 "nbformat": 4,
 "nbformat_minor": 2
}
