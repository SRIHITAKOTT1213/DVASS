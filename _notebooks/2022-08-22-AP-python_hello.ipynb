{
 "cells": [
  {
   "cell_type": "markdown",
   "metadata": {},
   "source": [
    "# Hello to Python\n",
    "> A journey through Python starting the classic \"Hello, World\" example, then progressing in learning to building a quiz.  This focuses on College Board vocabulary and examples using Variables, Assignments, Functions, and Selection.\n",
    "\n",
    "- title: Hello to Python\n",
    "- toc: true\n",
    "- comments: true\n",
    "- image: /images/python_basics_cheat_sheet.webp\n",
    "- permalink: /collegeboard/python\n",
    "- categories: [1.A, 3.A, 4.B, C4.0]\n",
    "- tags: [python]\n",
    "- type: ap\n",
    "- week: 1"
   ]
  },
  {
   "cell_type": "markdown",
   "metadata": {},
   "source": [
    "## Hello, World!\n",
    "These examples show the basic language structures and constructs of Python using print and input commands (aka anatomy)."
   ]
  },
  {
   "cell_type": "markdown",
   "metadata": {},
   "source": [
    "### Print command using Static Text which performs output\n",
    "The classic introduction to a programming language is to output a \"Hello, World!\" message.  In Python, this is a print statement.   \n",
    "- The <mark>command or function</mark> is print()\n",
    "- \"Hello, World\" is a String literal. This is the referred to as <mark>Static text</mark>, as it does not change.\n",
    "- \"Hello, World\" is a parameter to the print command.\n",
    "- The <mark>print command outputs</mark> the parameter to the terminal, as you see it in this Jupyter document\n",
    "- <mark>Output</mark> in Jupyter Notebook is below the code cell.  Output will vary depending on tools and development intentions. Python print typically outputs to a terminal, we will see that when students start using Visual Studio Code."
   ]
  },
  {
   "cell_type": "code",
   "execution_count": null,
   "metadata": {},
   "outputs": [],
   "source": [
    "print(\"Hello World!\")"
   ]
  },
  {
   "cell_type": "markdown",
   "metadata": {},
   "source": [
    "### Dynamic example showing variables, input and output\n",
    "This second example is a <mark>sequence of code</mark>, two or more lines forms a sequence.  This example takes input from the user and stores the input into a variable called msg (short for message), then outputs the msg to terminal.  - This example is <mark>Dynamic as the input and output can change</mark> each time the code is run.\n",
    "- A variable \"msg\" is part of both statement \n",
    "    - The variable \"msg\" is used to capture the input command\n",
    "    - The variable \"msg\" is then used as a <mark>parameter to print command</mark>, causing input to be <mark>output to terminal</mark>, or in Jupyter Notebook below the code cell.\n",
    "- The \"input\" command activates the jupyter notebook input box, which obtains <mark>input from the user</mark> (try it!)\n",
    "    - the \"msg\" variable is the dynamic result of the input command\n",
    "- The print command outputs the \"msg\" variable captured in the input statement\n",
    "    - note, msg is a <mark>parameter to the print function</mark>  \n",
    "- <mark>Input and Output</mark> in Jupyter Notebook Input is NOT in line with Output, this is a little annoyance and requires familiarity.  Input and Output will vary depending on tools and development intentions. Python print typically obtains input and outputs to a terminal, students will see that when they run Python programs using Visual Studio Code."
   ]
  },
  {
   "cell_type": "code",
   "execution_count": null,
   "metadata": {},
   "outputs": [],
   "source": [
    "msg = input(\"Enter a greeting: \")\n",
    "print(msg)"
   ]
  },
  {
   "cell_type": "markdown",
   "metadata": {},
   "source": [
    "### Building a Function\n",
    "This example adds to the basics of the <mark>Python anatomy</mark>, a function. Input, output, and grouping commands in functions is the key to most programming languages.  This example simulates a free response answer to a question.  \n",
    "- The \"def question_and_answer(prompt)\" now contains multiple indented commands,  the commands  print and input were learned previously.\n",
    "- Grouping a sequence of commands, often used repeatedly, is called <mark>procedural abstraction</mark>.\n",
    "- Procedure, Function, def are all synonyms in the Python language. \n",
    "- The <mark>\"def\" is a key word in Python that defines a function</mark>.  Using this keyword defines a group of commands, but does not run them initially. \n",
    "- The name of the function in this example is \"question_and_answer\".  In essence, we are defining our own command within the Python language.\n",
    "- The three \"question_and_answer\" commands that follow the function and indented commands allow this function to be run.\n",
    "- This code of the function is then run multiple times, each command line providing a unique \"prompt\" as a result of the literal parameter passed to the function.\n",
    "- The <mark>function takes a parameter</mark> called \"prompt\", which is a message output to the user to describe the input requested.  \n",
    "- <mark>String concatenation</mark> \"+\" prefixes the prompt with the literal message \"Question: \".\n",
    "- The \"msg\" variable is captured as a result of the jupyter notebook input supplied by the user\n",
    "- The input \"msg\" is output back to the user with \"Answer: \" concatenated to the front."
   ]
  },
  {
   "cell_type": "code",
   "execution_count": null,
   "metadata": {},
   "outputs": [],
   "source": [
    "def question_and_answer(prompt):\n",
    "    print(\"Question: \" + prompt)\n",
    "    msg = input()\n",
    "    print(\"Answer: \" + msg)\n",
    "\n",
    "question_and_answer(\"Name the Python output command mentioned in this lesson?\")\n",
    "question_and_answer(\"If you see many lines of code in order, what would College Board call it?\")\n",
    "question_and_answer(\"Describe a keyword used in Python to define a function?\")"
   ]
  },
  {
   "cell_type": "markdown",
   "metadata": {},
   "source": [
    "### Imports, Selection, and Logical Expressions\n",
    "In Python anatomy of you will be <mark>importing libraries and functions</mark>.  This is code that is developed by others.  In this example we are importing from a library called \"os\", this library extracts properties from the operating system of your existing system.   Additionally, this example uses the custom function defined earlier in the Jupyter document.  Python and Jupyter docs requires you to reference imports and definitions above the referencing line of code.\n",
    "- import os, sys obtain functions and variables from running environment\n",
    "- print('Hello, ' + getpass.getuser() + \" running \" + sys.executable + \" on \" + sys.platform + \"!\"), is a concatenated statement that outputs properties from the import\n",
    "\n",
    "Next, this example defines a new function \"question_with_response\", <mark>this function returns a value</mark> input by the user.  This allows programmer to evaluate the response.  The purpose of obtaining the return value is to evaluate if correct response was given to the question.\n",
    "- response from \"question_with_response\" is captured in a variable called \"rsp\"\n",
    "    - return command in function returns msg input by user\n",
    "    - assignment to \"rsp\" is allowed a function is returning a value, names do not need to match (but could)\n",
    "- <mark>if command</mark> is next command in sequence after \"rsp\" assignment\n",
    "   - this command contains an expression, rsp == \"import\" which compare what is typed to the string literal answer\n",
    "   - an <mark>if expression</mark> is evaluated for true or false\n",
    "   - true takes branch of code directly under if\n",
    "   - false takes branch of code directly under <mark>else command</mark>\n",
    "\n",
    "The grand finally of this example is calculating the right/total.\n",
    "- question = 3 is <mark>defined as number</mark> of questions\n",
    "- correct = 0 is defined as running score\n",
    "- correct += 1 is the way to <mark>add one to the score</mark>, this code is placed in sequence under correct expression evaluation\n",
    "- since question and correct are numbers, versus strings, to place them in concatenation in print statements you must inclose them in Python <mark>function str()</mark> which turns number into string.\n",
    "- final print statement is concatenated and formatted to give user and right over wrong"
   ]
  },
  {
   "cell_type": "code",
   "execution_count": null,
   "metadata": {},
   "outputs": [],
   "source": [
    "import getpass, sys\n",
    "\n",
    "def question_with_response(prompt):\n",
    "    print(\"Question: \" + prompt)\n",
    "    msg = input()\n",
    "    return msg\n",
    "\n",
    "questions = 3\n",
    "correct = 0\n",
    "\n",
    "print('Hello, ' + getpass.getuser() + \" running \" + sys.executable)\n",
    "print(\"You will be asked \" + str(questions) + \" questions.\")\n",
    "question_and_answer(\"Are you ready to take a test?\")\n",
    "\n",
    "rsp = question_with_response(\"What command is used to include other functions that were previously developed?\")\n",
    "if rsp == \"import\":\n",
    "    print(rsp + \" is correct!\")\n",
    "    correct += 1\n",
    "else:\n",
    "    print(rsp + \" is incorrect!\")\n",
    "\n",
    "rsp = question_with_response(\"What command is used to evaluate correct or incorrect response in this example?\")\n",
    "if rsp == \"if\":\n",
    "    print(rsp + \" is correct!\")\n",
    "    correct += 1\n",
    "else:\n",
    "    print(rsp + \" is incorrect!\")\n",
    "\n",
    "rsp = question_with_response(\"Each 'if' command contains an '_________' to determine a true or false condition?\")\n",
    "if rsp == \"expression\":\n",
    "    print(rsp + \" is correct!\")\n",
    "    correct += 1\n",
    "else:\n",
    "    print(rsp + \" is incorrect!\")\n",
    "\n",
    "print(getpass.getuser() + \" you scored \" + str(correct) +\"/\" + str(questions))"
   ]
  },
  {
   "cell_type": "markdown",
   "metadata": {},
   "source": [
    "## Hacks\n",
    "Test running a Python file directly\n",
    "- From python directory run quiz.py in VS Code, this will show workflow of Input and Output in terminal\n",
    "\n",
    "Build your own Jupyter Notebook meeting these College Board and CTE competencies\n",
    "- Build your own quiz, including my questions and show outputs\n",
    "- Create both Markdown for description and Code for execution\n",
    "- Structure your Python code with comments \"#\" to complement Markdown descriptions\n",
    "\n",
    "Additional requirements\n",
    "- Build your quiz so that it captures the key Vocabulary from this Jupyter document\n",
    "- Calculate the percentage of your quiz\n",
    "- Review College Board Big Idea outline, see if you can reference locations in Markdown that support vocabulary\n",
    "\n",
    "Extra credit, Advanced\n",
    "- Do you see repeating pattern of code?  Try to implement solution to avoid the repeating pattern (hint: list and iteration)"
   ]
  }
 ],
 "metadata": {
  "kernelspec": {
   "display_name": "Python 3.8.10 64-bit",
   "language": "python",
   "name": "python3"
  },
  "language_info": {
   "codemirror_mode": {
    "name": "ipython",
    "version": 3
   },
   "file_extension": ".py",
   "mimetype": "text/x-python",
   "name": "python",
   "nbconvert_exporter": "python",
   "pygments_lexer": "ipython3",
   "version": "3.8.10"
  },
  "vscode": {
   "interpreter": {
    "hash": "916dbcbb3f70747c44a77c7bcd40155683ae19c65e1c03b4aa3499c5328201f1"
   }
  }
 },
 "nbformat": 4,
 "nbformat_minor": 2
}
