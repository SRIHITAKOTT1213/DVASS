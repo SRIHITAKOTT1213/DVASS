{
 "cells": [
  {
   "cell_type": "markdown",
   "metadata": {},
   "source": [
    "# Javascript Inputs using a Grade Calculator\n",
    "> A discussion on user inputs using Javascript. The grade calculator takes multiple values and does a calculation on them. User input can be useful for other projects, such as being used as a query.\n",
    "- comments: false\n",
    "- permalink: /techtalk/javascriptinput\n",
    "- categories: [3.A, 5.B, C3.0, C3.1, C4.1]\n",
    "- type: pbl\n",
    "- week: 10"
   ]
  },
  {
   "cell_type": "markdown",
   "metadata": {},
   "source": [
    "The code segment below builds the container for the output and input for the grade calculator.\n",
    "\n",
    "Read more [here](https://www.washington.edu/accesscomputing/webd2/student/unit3/module5/lesson1.html)"
   ]
  },
  {
   "cell_type": "code",
   "execution_count": null,
   "metadata": {
    "vscode": {
     "languageId": "javascript"
    }
   },
   "outputs": [],
   "source": [
    "<div class=\"container bg-primary\">\n",
    "    <header class=\"pb-3 mb-4 border-bottom border-primary text-dark\">\n",
    "        <span class=\"fs-4\">Grade Calculator</span>\n",
    "    </header>\n",
    "        <form>\n",
    "        <!-- Totals -->\n",
    "        <div class=\"form-group row\">\n",
    "            Total : <span id=\"total\" class=\"label label-primary\">0.0</span>\n",
    "            Count : <span id=\"count\" class=\"label label-primary\">0.0</span>\n",
    "            Average : <span id=\"average\" class=\"label label-primary\">0.0</span>\n",
    "        </div>\n",
    "        <!-- Rows -->\n",
    "        <div class=\"form-group row\">\n",
    "            Input scores, press tab to add new number:\n",
    "            <div id=\"scores\">\n",
    "                <input onblur=\"calculator()\" type=\"text\" name=\"score\" id=\"score0\"/><br>\n",
    "                <!-- javascript generated inputs -->\n",
    "            </div>\n",
    "        </div>\n",
    "    </form>\n",
    "</div>"
   ]
  },
  {
   "cell_type": "markdown",
   "metadata": {},
   "source": [
    "The code below creates the function that creates a new input line.\n",
    "\n",
    "Additional Resources:\n",
    "- [Create Element](https://www.w3schools.com/jsref/met_document_createelement.asp)\n",
    "- [Set Attribute](https://www.w3schools.com/jsref/met_element_setattribute.asp)"
   ]
  },
  {
   "cell_type": "code",
   "execution_count": null,
   "metadata": {
    "vscode": {
     "languageId": "javascript"
    }
   },
   "outputs": [],
   "source": [
    "const scoresContainer = document.getElementById(\"scores\");\n",
    "\n",
    "// Creates new input line\n",
    "function newInputLine(index) {\n",
    "    // Prepare new input line\n",
    "    var input = document.createElement(\"input\");  // input element\n",
    "    var br = document.createElement(\"br\");  // line break element\n",
    "    // Setup input line attributes\n",
    "    input.setAttribute('onblur', \"calculator()\");\n",
    "    input.setAttribute('type', \"text\");\n",
    "    input.setAttribute('name', \"score\");\n",
    "    input.setAttribute('id', \"score\" + index);\n",
    "    // Add input and line break to page\n",
    "    scoresContainer.appendChild(input);\n",
    "    scoresContainer.appendChild(br);\n",
    "}"
   ]
  },
  {
   "cell_type": "markdown",
   "metadata": {},
   "source": [
    "The code below creates the function calculator which stores and calculates the total, count, and average of the user inputs.\n",
    "\n",
    "Additional Resources:\n",
    "- [Get Elements by ID](https://www.w3schools.com/jsref/met_document_getelementbyid.asp)\n",
    "- [Get Elements by Name](https://www.w3schools.com/jsref/met_doc_getelementsbyname.asp)"
   ]
  },
  {
   "cell_type": "code",
   "execution_count": null,
   "metadata": {
    "vscode": {
     "languageId": "javascript"
    }
   },
   "outputs": [],
   "source": [
    "// Calculates totals\n",
    "function calculator(){\n",
    "    var array = document.getElementsByName('score'); // setup array of scores\n",
    "    if (array[array.length-1].value.length != 0) {   // input cell has a value\n",
    "        // algorithm to calculate results\n",
    "        var total = 0;  // running total\n",
    "        for(var i = 0; i < array.length; i++){  // iterate through array\n",
    "            if(parseFloat(array[i].value))  // convert to float\n",
    "                total += parseFloat(array[i].value);  // add to running total\n",
    "        }\n",
    "        // update totals\n",
    "        document.getElementById('total').innerHTML = total.toFixed(2);\n",
    "        document.getElementById('count').innerHTML = array.length;\n",
    "        document.getElementById('average').innerHTML = (total / array.length).toFixed(2);\n",
    "        // make a new input line\n",
    "        newInputLine(array.length);\n",
    "        \n",
    "    }\n",
    "    // Set cursor focus on last element; this could be new or unchanged element\n",
    "    document.getElementById(\"score\" + (array.length-1)).focus();\n",
    "}"
   ]
  },
  {
   "cell_type": "markdown",
   "metadata": {},
   "source": [
    "# Hacks\n",
    "\n",
    "Getting a user input can be useful in other ways: \n",
    "- Looking for a single element in an API, ie Stock in Stock API or BTC in digital coin API, or City in Weather API\n",
    "- Record name, then you could use name input to retrieve something about them from multiple RapidAPI.\n",
    "- Save name and input, like grades, and send data to backend to be recorded, saved, and then retrieved when they enter name on next usage"
   ]
  }
 ],
 "metadata": {
  "kernelspec": {
   "display_name": "Python 3.9.12 ('base')",
   "language": "python",
   "name": "python3"
  },
  "language_info": {
   "name": "python",
   "version": "3.9.12"
  },
  "orig_nbformat": 4,
  "vscode": {
   "interpreter": {
    "hash": "65f6bdf080211a4261ca30203f2967d5d410cd9d47d7b7e5694003092334a949"
   }
  }
 },
 "nbformat": 4,
 "nbformat_minor": 2
}
